{
 "cells": [
  {
   "cell_type": "code",
   "execution_count": 2,
   "metadata": {},
   "outputs": [],
   "source": [
    "import pandas as pd\n",
    "import re\n",
    "import matplotlib.pyplot as plt\n",
    "import numpy as np"
   ]
  },
  {
   "cell_type": "code",
   "execution_count": 3,
   "metadata": {},
   "outputs": [],
   "source": [
    "us_data = pd.read_csv('data/USvideos.csv')\n",
    "ca_data = pd.read_csv('data/CAvideos.csv')\n",
    "gb_data = pd.read_csv('data/GBvideos.csv')"
   ]
  },
  {
   "cell_type": "code",
   "execution_count": 4,
   "metadata": {},
   "outputs": [],
   "source": [
    "frames = [us_data, ca_data, gb_data]\n",
    "whole_data = pd.concat(frames)\n",
    "whole_data.drop_duplicates(keep=False,inplace=True) "
   ]
  },
  {
   "cell_type": "code",
   "execution_count": 4,
   "metadata": {},
   "outputs": [
    {
     "data": {
      "text/html": [
       "<div>\n",
       "<style scoped>\n",
       "    .dataframe tbody tr th:only-of-type {\n",
       "        vertical-align: middle;\n",
       "    }\n",
       "\n",
       "    .dataframe tbody tr th {\n",
       "        vertical-align: top;\n",
       "    }\n",
       "\n",
       "    .dataframe thead th {\n",
       "        text-align: right;\n",
       "    }\n",
       "</style>\n",
       "<table border=\"1\" class=\"dataframe\">\n",
       "  <thead>\n",
       "    <tr style=\"text-align: right;\">\n",
       "      <th></th>\n",
       "      <th>video_id</th>\n",
       "      <th>trending_date</th>\n",
       "      <th>title</th>\n",
       "      <th>channel_title</th>\n",
       "      <th>category_id</th>\n",
       "      <th>publish_time</th>\n",
       "      <th>tags</th>\n",
       "      <th>views</th>\n",
       "      <th>likes</th>\n",
       "      <th>dislikes</th>\n",
       "      <th>comment_count</th>\n",
       "      <th>thumbnail_link</th>\n",
       "      <th>comments_disabled</th>\n",
       "      <th>ratings_disabled</th>\n",
       "      <th>video_error_or_removed</th>\n",
       "      <th>description</th>\n",
       "    </tr>\n",
       "  </thead>\n",
       "  <tbody>\n",
       "    <tr>\n",
       "      <th>0</th>\n",
       "      <td>2kyS6SvSYSE</td>\n",
       "      <td>17.14.11</td>\n",
       "      <td>WE WANT TO TALK ABOUT OUR MARRIAGE</td>\n",
       "      <td>CaseyNeistat</td>\n",
       "      <td>22</td>\n",
       "      <td>2017-11-13T17:13:01.000Z</td>\n",
       "      <td>SHANtell martin</td>\n",
       "      <td>748374</td>\n",
       "      <td>57527</td>\n",
       "      <td>2966</td>\n",
       "      <td>15954</td>\n",
       "      <td>https://i.ytimg.com/vi/2kyS6SvSYSE/default.jpg</td>\n",
       "      <td>False</td>\n",
       "      <td>False</td>\n",
       "      <td>False</td>\n",
       "      <td>SHANTELL'S CHANNEL - https://www.youtube.com/s...</td>\n",
       "    </tr>\n",
       "    <tr>\n",
       "      <th>1</th>\n",
       "      <td>1ZAPwfrtAFY</td>\n",
       "      <td>17.14.11</td>\n",
       "      <td>The Trump Presidency: Last Week Tonight with J...</td>\n",
       "      <td>LastWeekTonight</td>\n",
       "      <td>24</td>\n",
       "      <td>2017-11-13T07:30:00.000Z</td>\n",
       "      <td>last week tonight trump presidency|\"last week ...</td>\n",
       "      <td>2418783</td>\n",
       "      <td>97185</td>\n",
       "      <td>6146</td>\n",
       "      <td>12703</td>\n",
       "      <td>https://i.ytimg.com/vi/1ZAPwfrtAFY/default.jpg</td>\n",
       "      <td>False</td>\n",
       "      <td>False</td>\n",
       "      <td>False</td>\n",
       "      <td>One year after the presidential election, John...</td>\n",
       "    </tr>\n",
       "    <tr>\n",
       "      <th>2</th>\n",
       "      <td>5qpjK5DgCt4</td>\n",
       "      <td>17.14.11</td>\n",
       "      <td>Racist Superman | Rudy Mancuso, King Bach &amp; Le...</td>\n",
       "      <td>Rudy Mancuso</td>\n",
       "      <td>23</td>\n",
       "      <td>2017-11-12T19:05:24.000Z</td>\n",
       "      <td>racist superman|\"rudy\"|\"mancuso\"|\"king\"|\"bach\"...</td>\n",
       "      <td>3191434</td>\n",
       "      <td>146033</td>\n",
       "      <td>5339</td>\n",
       "      <td>8181</td>\n",
       "      <td>https://i.ytimg.com/vi/5qpjK5DgCt4/default.jpg</td>\n",
       "      <td>False</td>\n",
       "      <td>False</td>\n",
       "      <td>False</td>\n",
       "      <td>WATCH MY PREVIOUS VIDEO ▶ \\n\\nSUBSCRIBE ► http...</td>\n",
       "    </tr>\n",
       "    <tr>\n",
       "      <th>3</th>\n",
       "      <td>puqaWrEC7tY</td>\n",
       "      <td>17.14.11</td>\n",
       "      <td>Nickelback Lyrics: Real or Fake?</td>\n",
       "      <td>Good Mythical Morning</td>\n",
       "      <td>24</td>\n",
       "      <td>2017-11-13T11:00:04.000Z</td>\n",
       "      <td>rhett and link|\"gmm\"|\"good mythical morning\"|\"...</td>\n",
       "      <td>343168</td>\n",
       "      <td>10172</td>\n",
       "      <td>666</td>\n",
       "      <td>2146</td>\n",
       "      <td>https://i.ytimg.com/vi/puqaWrEC7tY/default.jpg</td>\n",
       "      <td>False</td>\n",
       "      <td>False</td>\n",
       "      <td>False</td>\n",
       "      <td>Today we find out if Link is a Nickelback amat...</td>\n",
       "    </tr>\n",
       "    <tr>\n",
       "      <th>4</th>\n",
       "      <td>d380meD0W0M</td>\n",
       "      <td>17.14.11</td>\n",
       "      <td>I Dare You: GOING BALD!?</td>\n",
       "      <td>nigahiga</td>\n",
       "      <td>24</td>\n",
       "      <td>2017-11-12T18:01:41.000Z</td>\n",
       "      <td>ryan|\"higa\"|\"higatv\"|\"nigahiga\"|\"i dare you\"|\"...</td>\n",
       "      <td>2095731</td>\n",
       "      <td>132235</td>\n",
       "      <td>1989</td>\n",
       "      <td>17518</td>\n",
       "      <td>https://i.ytimg.com/vi/d380meD0W0M/default.jpg</td>\n",
       "      <td>False</td>\n",
       "      <td>False</td>\n",
       "      <td>False</td>\n",
       "      <td>I know it's been a while since we did this sho...</td>\n",
       "    </tr>\n",
       "  </tbody>\n",
       "</table>\n",
       "</div>"
      ],
      "text/plain": [
       "      video_id trending_date  \\\n",
       "0  2kyS6SvSYSE      17.14.11   \n",
       "1  1ZAPwfrtAFY      17.14.11   \n",
       "2  5qpjK5DgCt4      17.14.11   \n",
       "3  puqaWrEC7tY      17.14.11   \n",
       "4  d380meD0W0M      17.14.11   \n",
       "\n",
       "                                               title          channel_title  \\\n",
       "0                 WE WANT TO TALK ABOUT OUR MARRIAGE           CaseyNeistat   \n",
       "1  The Trump Presidency: Last Week Tonight with J...        LastWeekTonight   \n",
       "2  Racist Superman | Rudy Mancuso, King Bach & Le...           Rudy Mancuso   \n",
       "3                   Nickelback Lyrics: Real or Fake?  Good Mythical Morning   \n",
       "4                           I Dare You: GOING BALD!?               nigahiga   \n",
       "\n",
       "   category_id              publish_time  \\\n",
       "0           22  2017-11-13T17:13:01.000Z   \n",
       "1           24  2017-11-13T07:30:00.000Z   \n",
       "2           23  2017-11-12T19:05:24.000Z   \n",
       "3           24  2017-11-13T11:00:04.000Z   \n",
       "4           24  2017-11-12T18:01:41.000Z   \n",
       "\n",
       "                                                tags    views   likes  \\\n",
       "0                                    SHANtell martin   748374   57527   \n",
       "1  last week tonight trump presidency|\"last week ...  2418783   97185   \n",
       "2  racist superman|\"rudy\"|\"mancuso\"|\"king\"|\"bach\"...  3191434  146033   \n",
       "3  rhett and link|\"gmm\"|\"good mythical morning\"|\"...   343168   10172   \n",
       "4  ryan|\"higa\"|\"higatv\"|\"nigahiga\"|\"i dare you\"|\"...  2095731  132235   \n",
       "\n",
       "   dislikes  comment_count                                  thumbnail_link  \\\n",
       "0      2966          15954  https://i.ytimg.com/vi/2kyS6SvSYSE/default.jpg   \n",
       "1      6146          12703  https://i.ytimg.com/vi/1ZAPwfrtAFY/default.jpg   \n",
       "2      5339           8181  https://i.ytimg.com/vi/5qpjK5DgCt4/default.jpg   \n",
       "3       666           2146  https://i.ytimg.com/vi/puqaWrEC7tY/default.jpg   \n",
       "4      1989          17518  https://i.ytimg.com/vi/d380meD0W0M/default.jpg   \n",
       "\n",
       "   comments_disabled  ratings_disabled  video_error_or_removed  \\\n",
       "0              False             False                   False   \n",
       "1              False             False                   False   \n",
       "2              False             False                   False   \n",
       "3              False             False                   False   \n",
       "4              False             False                   False   \n",
       "\n",
       "                                         description  \n",
       "0  SHANTELL'S CHANNEL - https://www.youtube.com/s...  \n",
       "1  One year after the presidential election, John...  \n",
       "2  WATCH MY PREVIOUS VIDEO ▶ \\n\\nSUBSCRIBE ► http...  \n",
       "3  Today we find out if Link is a Nickelback amat...  \n",
       "4  I know it's been a while since we did this sho...  "
      ]
     },
     "execution_count": 4,
     "metadata": {},
     "output_type": "execute_result"
    }
   ],
   "source": [
    "us_data.head()"
   ]
  },
  {
   "cell_type": "code",
   "execution_count": 5,
   "metadata": {},
   "outputs": [
    {
     "data": {
      "text/html": [
       "<div>\n",
       "<style scoped>\n",
       "    .dataframe tbody tr th:only-of-type {\n",
       "        vertical-align: middle;\n",
       "    }\n",
       "\n",
       "    .dataframe tbody tr th {\n",
       "        vertical-align: top;\n",
       "    }\n",
       "\n",
       "    .dataframe thead th {\n",
       "        text-align: right;\n",
       "    }\n",
       "</style>\n",
       "<table border=\"1\" class=\"dataframe\">\n",
       "  <thead>\n",
       "    <tr style=\"text-align: right;\">\n",
       "      <th></th>\n",
       "      <th>video_id</th>\n",
       "      <th>trending_date</th>\n",
       "      <th>title</th>\n",
       "      <th>channel_title</th>\n",
       "      <th>category_id</th>\n",
       "      <th>publish_time</th>\n",
       "      <th>tags</th>\n",
       "      <th>views</th>\n",
       "      <th>likes</th>\n",
       "      <th>dislikes</th>\n",
       "      <th>comment_count</th>\n",
       "      <th>thumbnail_link</th>\n",
       "      <th>comments_disabled</th>\n",
       "      <th>ratings_disabled</th>\n",
       "      <th>video_error_or_removed</th>\n",
       "      <th>description</th>\n",
       "    </tr>\n",
       "  </thead>\n",
       "  <tbody>\n",
       "    <tr>\n",
       "      <th>0</th>\n",
       "      <td>n1WpP7iowLc</td>\n",
       "      <td>17.14.11</td>\n",
       "      <td>Eminem - Walk On Water (Audio) ft. Beyoncé</td>\n",
       "      <td>EminemVEVO</td>\n",
       "      <td>10</td>\n",
       "      <td>2017-11-10T17:00:03.000Z</td>\n",
       "      <td>Eminem|\"Walk\"|\"On\"|\"Water\"|\"Aftermath/Shady/In...</td>\n",
       "      <td>17158579</td>\n",
       "      <td>787425</td>\n",
       "      <td>43420</td>\n",
       "      <td>125882</td>\n",
       "      <td>https://i.ytimg.com/vi/n1WpP7iowLc/default.jpg</td>\n",
       "      <td>False</td>\n",
       "      <td>False</td>\n",
       "      <td>False</td>\n",
       "      <td>Eminem's new track Walk on Water ft. Beyoncé i...</td>\n",
       "    </tr>\n",
       "    <tr>\n",
       "      <th>1</th>\n",
       "      <td>0dBIkQ4Mz1M</td>\n",
       "      <td>17.14.11</td>\n",
       "      <td>PLUSH - Bad Unboxing Fan Mail</td>\n",
       "      <td>iDubbbzTV</td>\n",
       "      <td>23</td>\n",
       "      <td>2017-11-13T17:00:00.000Z</td>\n",
       "      <td>plush|\"bad unboxing\"|\"unboxing\"|\"fan mail\"|\"id...</td>\n",
       "      <td>1014651</td>\n",
       "      <td>127794</td>\n",
       "      <td>1688</td>\n",
       "      <td>13030</td>\n",
       "      <td>https://i.ytimg.com/vi/0dBIkQ4Mz1M/default.jpg</td>\n",
       "      <td>False</td>\n",
       "      <td>False</td>\n",
       "      <td>False</td>\n",
       "      <td>STill got a lot of packages. Probably will las...</td>\n",
       "    </tr>\n",
       "    <tr>\n",
       "      <th>2</th>\n",
       "      <td>5qpjK5DgCt4</td>\n",
       "      <td>17.14.11</td>\n",
       "      <td>Racist Superman | Rudy Mancuso, King Bach &amp; Le...</td>\n",
       "      <td>Rudy Mancuso</td>\n",
       "      <td>23</td>\n",
       "      <td>2017-11-12T19:05:24.000Z</td>\n",
       "      <td>racist superman|\"rudy\"|\"mancuso\"|\"king\"|\"bach\"...</td>\n",
       "      <td>3191434</td>\n",
       "      <td>146035</td>\n",
       "      <td>5339</td>\n",
       "      <td>8181</td>\n",
       "      <td>https://i.ytimg.com/vi/5qpjK5DgCt4/default.jpg</td>\n",
       "      <td>False</td>\n",
       "      <td>False</td>\n",
       "      <td>False</td>\n",
       "      <td>WATCH MY PREVIOUS VIDEO ▶ \\n\\nSUBSCRIBE ► http...</td>\n",
       "    </tr>\n",
       "    <tr>\n",
       "      <th>3</th>\n",
       "      <td>d380meD0W0M</td>\n",
       "      <td>17.14.11</td>\n",
       "      <td>I Dare You: GOING BALD!?</td>\n",
       "      <td>nigahiga</td>\n",
       "      <td>24</td>\n",
       "      <td>2017-11-12T18:01:41.000Z</td>\n",
       "      <td>ryan|\"higa\"|\"higatv\"|\"nigahiga\"|\"i dare you\"|\"...</td>\n",
       "      <td>2095828</td>\n",
       "      <td>132239</td>\n",
       "      <td>1989</td>\n",
       "      <td>17518</td>\n",
       "      <td>https://i.ytimg.com/vi/d380meD0W0M/default.jpg</td>\n",
       "      <td>False</td>\n",
       "      <td>False</td>\n",
       "      <td>False</td>\n",
       "      <td>I know it's been a while since we did this sho...</td>\n",
       "    </tr>\n",
       "    <tr>\n",
       "      <th>4</th>\n",
       "      <td>2Vv-BfVoq4g</td>\n",
       "      <td>17.14.11</td>\n",
       "      <td>Ed Sheeran - Perfect (Official Music Video)</td>\n",
       "      <td>Ed Sheeran</td>\n",
       "      <td>10</td>\n",
       "      <td>2017-11-09T11:04:14.000Z</td>\n",
       "      <td>edsheeran|\"ed sheeran\"|\"acoustic\"|\"live\"|\"cove...</td>\n",
       "      <td>33523622</td>\n",
       "      <td>1634130</td>\n",
       "      <td>21082</td>\n",
       "      <td>85067</td>\n",
       "      <td>https://i.ytimg.com/vi/2Vv-BfVoq4g/default.jpg</td>\n",
       "      <td>False</td>\n",
       "      <td>False</td>\n",
       "      <td>False</td>\n",
       "      <td>🎧: https://ad.gt/yt-perfect\\n💰: https://atlant...</td>\n",
       "    </tr>\n",
       "  </tbody>\n",
       "</table>\n",
       "</div>"
      ],
      "text/plain": [
       "      video_id trending_date  \\\n",
       "0  n1WpP7iowLc      17.14.11   \n",
       "1  0dBIkQ4Mz1M      17.14.11   \n",
       "2  5qpjK5DgCt4      17.14.11   \n",
       "3  d380meD0W0M      17.14.11   \n",
       "4  2Vv-BfVoq4g      17.14.11   \n",
       "\n",
       "                                               title channel_title  \\\n",
       "0         Eminem - Walk On Water (Audio) ft. Beyoncé    EminemVEVO   \n",
       "1                      PLUSH - Bad Unboxing Fan Mail     iDubbbzTV   \n",
       "2  Racist Superman | Rudy Mancuso, King Bach & Le...  Rudy Mancuso   \n",
       "3                           I Dare You: GOING BALD!?      nigahiga   \n",
       "4        Ed Sheeran - Perfect (Official Music Video)    Ed Sheeran   \n",
       "\n",
       "   category_id              publish_time  \\\n",
       "0           10  2017-11-10T17:00:03.000Z   \n",
       "1           23  2017-11-13T17:00:00.000Z   \n",
       "2           23  2017-11-12T19:05:24.000Z   \n",
       "3           24  2017-11-12T18:01:41.000Z   \n",
       "4           10  2017-11-09T11:04:14.000Z   \n",
       "\n",
       "                                                tags     views    likes  \\\n",
       "0  Eminem|\"Walk\"|\"On\"|\"Water\"|\"Aftermath/Shady/In...  17158579   787425   \n",
       "1  plush|\"bad unboxing\"|\"unboxing\"|\"fan mail\"|\"id...   1014651   127794   \n",
       "2  racist superman|\"rudy\"|\"mancuso\"|\"king\"|\"bach\"...   3191434   146035   \n",
       "3  ryan|\"higa\"|\"higatv\"|\"nigahiga\"|\"i dare you\"|\"...   2095828   132239   \n",
       "4  edsheeran|\"ed sheeran\"|\"acoustic\"|\"live\"|\"cove...  33523622  1634130   \n",
       "\n",
       "   dislikes  comment_count                                  thumbnail_link  \\\n",
       "0     43420         125882  https://i.ytimg.com/vi/n1WpP7iowLc/default.jpg   \n",
       "1      1688          13030  https://i.ytimg.com/vi/0dBIkQ4Mz1M/default.jpg   \n",
       "2      5339           8181  https://i.ytimg.com/vi/5qpjK5DgCt4/default.jpg   \n",
       "3      1989          17518  https://i.ytimg.com/vi/d380meD0W0M/default.jpg   \n",
       "4     21082          85067  https://i.ytimg.com/vi/2Vv-BfVoq4g/default.jpg   \n",
       "\n",
       "   comments_disabled  ratings_disabled  video_error_or_removed  \\\n",
       "0              False             False                   False   \n",
       "1              False             False                   False   \n",
       "2              False             False                   False   \n",
       "3              False             False                   False   \n",
       "4              False             False                   False   \n",
       "\n",
       "                                         description  \n",
       "0  Eminem's new track Walk on Water ft. Beyoncé i...  \n",
       "1  STill got a lot of packages. Probably will las...  \n",
       "2  WATCH MY PREVIOUS VIDEO ▶ \\n\\nSUBSCRIBE ► http...  \n",
       "3  I know it's been a while since we did this sho...  \n",
       "4  🎧: https://ad.gt/yt-perfect\\n💰: https://atlant...  "
      ]
     },
     "execution_count": 5,
     "metadata": {},
     "output_type": "execute_result"
    }
   ],
   "source": [
    "ca_data.head()"
   ]
  },
  {
   "cell_type": "code",
   "execution_count": 6,
   "metadata": {},
   "outputs": [],
   "source": [
    "df = us_data.groupby(by=['channel_title', 'video_id'])"
   ]
  },
  {
   "cell_type": "code",
   "execution_count": 7,
   "metadata": {},
   "outputs": [
    {
     "data": {
      "text/html": [
       "<div>\n",
       "<style scoped>\n",
       "    .dataframe tbody tr th:only-of-type {\n",
       "        vertical-align: middle;\n",
       "    }\n",
       "\n",
       "    .dataframe tbody tr th {\n",
       "        vertical-align: top;\n",
       "    }\n",
       "\n",
       "    .dataframe thead th {\n",
       "        text-align: right;\n",
       "    }\n",
       "</style>\n",
       "<table border=\"1\" class=\"dataframe\">\n",
       "  <thead>\n",
       "    <tr style=\"text-align: right;\">\n",
       "      <th></th>\n",
       "      <th></th>\n",
       "      <th>trending_date</th>\n",
       "      <th>title</th>\n",
       "      <th>category_id</th>\n",
       "      <th>publish_time</th>\n",
       "      <th>tags</th>\n",
       "      <th>views</th>\n",
       "      <th>likes</th>\n",
       "      <th>dislikes</th>\n",
       "      <th>comment_count</th>\n",
       "      <th>thumbnail_link</th>\n",
       "      <th>comments_disabled</th>\n",
       "      <th>ratings_disabled</th>\n",
       "      <th>video_error_or_removed</th>\n",
       "      <th>description</th>\n",
       "    </tr>\n",
       "    <tr>\n",
       "      <th>channel_title</th>\n",
       "      <th>video_id</th>\n",
       "      <th></th>\n",
       "      <th></th>\n",
       "      <th></th>\n",
       "      <th></th>\n",
       "      <th></th>\n",
       "      <th></th>\n",
       "      <th></th>\n",
       "      <th></th>\n",
       "      <th></th>\n",
       "      <th></th>\n",
       "      <th></th>\n",
       "      <th></th>\n",
       "      <th></th>\n",
       "      <th></th>\n",
       "    </tr>\n",
       "  </thead>\n",
       "  <tbody>\n",
       "    <tr>\n",
       "      <th>12 News</th>\n",
       "      <th>9KIP-Ncp2jU</th>\n",
       "      <td>17.15.11</td>\n",
       "      <td>Bill Gates bought land in Arizona to build tec...</td>\n",
       "      <td>22</td>\n",
       "      <td>2017-11-11T01:03:01.000Z</td>\n",
       "      <td>Arizona|\"Bill gates\"|\"land\"|\"tech city\"|\"smart...</td>\n",
       "      <td>85643</td>\n",
       "      <td>170</td>\n",
       "      <td>45</td>\n",
       "      <td>0</td>\n",
       "      <td>https://i.ytimg.com/vi/9KIP-Ncp2jU/default.jpg</td>\n",
       "      <td>False</td>\n",
       "      <td>False</td>\n",
       "      <td>False</td>\n",
       "      <td>Philanthropist  and inventor Bill Gates paid $...</td>\n",
       "    </tr>\n",
       "    <tr>\n",
       "      <th rowspan=\"4\" valign=\"top\">1MILLION Dance Studio</th>\n",
       "      <th>QRq0pkr2TWM</th>\n",
       "      <td>18.25.02</td>\n",
       "      <td>Cheap Thrills - Sia / Tina Boo Choreography</td>\n",
       "      <td>24</td>\n",
       "      <td>2018-02-19T12:00:02.000Z</td>\n",
       "      <td>choreography|\"1million dance studio\"|\"원밀리언 댄스 ...</td>\n",
       "      <td>601159</td>\n",
       "      <td>27962</td>\n",
       "      <td>336</td>\n",
       "      <td>444</td>\n",
       "      <td>https://i.ytimg.com/vi/QRq0pkr2TWM/default.jpg</td>\n",
       "      <td>False</td>\n",
       "      <td>False</td>\n",
       "      <td>False</td>\n",
       "      <td>Tina boo teaches choreography to Cheap Thrills...</td>\n",
       "    </tr>\n",
       "    <tr>\n",
       "      <th>WdOGSNQP9b4</th>\n",
       "      <td>18.08.03</td>\n",
       "      <td>This is me - The Greatest Showman OST / Jun Li...</td>\n",
       "      <td>24</td>\n",
       "      <td>2018-03-07T12:00:04.000Z</td>\n",
       "      <td>choreography|\"1million dance studio\"|\"원밀리언 댄스 ...</td>\n",
       "      <td>210802</td>\n",
       "      <td>17499</td>\n",
       "      <td>134</td>\n",
       "      <td>644</td>\n",
       "      <td>https://i.ytimg.com/vi/WdOGSNQP9b4/default.jpg</td>\n",
       "      <td>False</td>\n",
       "      <td>False</td>\n",
       "      <td>False</td>\n",
       "      <td>Jun Liu teaches choreography to This is me by ...</td>\n",
       "    </tr>\n",
       "    <tr>\n",
       "      <th>XKl8Wg25DrM</th>\n",
       "      <td>18.14.04</td>\n",
       "      <td>Joga O Bum Bum Tam Tam - MC Fioti / Rikimaru C...</td>\n",
       "      <td>24</td>\n",
       "      <td>2018-04-10T12:00:05.000Z</td>\n",
       "      <td>choreography|\"1million dance studio\"|\"원밀리언 댄스 ...</td>\n",
       "      <td>537267</td>\n",
       "      <td>50334</td>\n",
       "      <td>568</td>\n",
       "      <td>6899</td>\n",
       "      <td>https://i.ytimg.com/vi/XKl8Wg25DrM/default.jpg</td>\n",
       "      <td>False</td>\n",
       "      <td>False</td>\n",
       "      <td>False</td>\n",
       "      <td>Rikimaru teaches choreography to Joga O Bum Bu...</td>\n",
       "    </tr>\n",
       "    <tr>\n",
       "      <th>_xwX82Y0Oro</th>\n",
       "      <td>18.01.03</td>\n",
       "      <td>FRIENDS - Marshmello &amp; Anne-Marie / Tina Boo C...</td>\n",
       "      <td>24</td>\n",
       "      <td>2018-02-28T09:00:03.000Z</td>\n",
       "      <td>choreography|\"1million dance studio\"|\"원밀리언 댄스 ...</td>\n",
       "      <td>384249</td>\n",
       "      <td>26271</td>\n",
       "      <td>238</td>\n",
       "      <td>540</td>\n",
       "      <td>https://i.ytimg.com/vi/_xwX82Y0Oro/default.jpg</td>\n",
       "      <td>False</td>\n",
       "      <td>False</td>\n",
       "      <td>False</td>\n",
       "      <td>Tina Boo teaches choreography to FRIENDS by Ma...</td>\n",
       "    </tr>\n",
       "    <tr>\n",
       "      <th>...</th>\n",
       "      <th>...</th>\n",
       "      <td>...</td>\n",
       "      <td>...</td>\n",
       "      <td>...</td>\n",
       "      <td>...</td>\n",
       "      <td>...</td>\n",
       "      <td>...</td>\n",
       "      <td>...</td>\n",
       "      <td>...</td>\n",
       "      <td>...</td>\n",
       "      <td>...</td>\n",
       "      <td>...</td>\n",
       "      <td>...</td>\n",
       "      <td>...</td>\n",
       "      <td>...</td>\n",
       "    </tr>\n",
       "    <tr>\n",
       "      <th>ワーナー ブラザース 公式チャンネル</th>\n",
       "      <th>QF031DwMffQ</th>\n",
       "      <td>17.03.12</td>\n",
       "      <td>『ニンジャバットマン』 New York Comic Con公開映像【2018年劇場公開予定】</td>\n",
       "      <td>1</td>\n",
       "      <td>2017-12-01T09:06:02.000Z</td>\n",
       "      <td>ニンジャバットマン|\"batman ninja\"|\"batman\"|\"神風動画\"|\"水﨑淳平...</td>\n",
       "      <td>755014</td>\n",
       "      <td>15686</td>\n",
       "      <td>558</td>\n",
       "      <td>1768</td>\n",
       "      <td>https://i.ytimg.com/vi/QF031DwMffQ/default.jpg</td>\n",
       "      <td>False</td>\n",
       "      <td>False</td>\n",
       "      <td>False</td>\n",
       "      <td>日本発！世界に放つ！最強エンタメ！\\n２０１８年劇場公開予定　『ニンジャバットマン』\\n\\n...</td>\n",
       "    </tr>\n",
       "    <tr>\n",
       "      <th>圧倒的不審者の極み!</th>\n",
       "      <th>MeNR0guNn70</th>\n",
       "      <td>18.05.03</td>\n",
       "      <td>世界で一番切れるパスタの包丁を作りたい！</td>\n",
       "      <td>28</td>\n",
       "      <td>2018-03-03T16:16:15.000Z</td>\n",
       "      <td>kiwami|\"作ってみた\"|\"作り方\"|\"作成\"|\"作製\"|\"自作\"|\"How\"|\"to\"...</td>\n",
       "      <td>294419</td>\n",
       "      <td>7310</td>\n",
       "      <td>378</td>\n",
       "      <td>2780</td>\n",
       "      <td>https://i.ytimg.com/vi/MeNR0guNn70/default.jpg</td>\n",
       "      <td>False</td>\n",
       "      <td>False</td>\n",
       "      <td>False</td>\n",
       "      <td>この動画は、ある男がパスタを包丁にする為に2週間パスタを食べながら開発に取り組んだヒューマン...</td>\n",
       "    </tr>\n",
       "    <tr>\n",
       "      <th>杰威爾音樂 JVR Music</th>\n",
       "      <th>MAjY8mCTXWk</th>\n",
       "      <td>18.15.05</td>\n",
       "      <td>周杰倫 Jay Chou【不愛我就拉倒 If You Don't Love Me, It's...</td>\n",
       "      <td>10</td>\n",
       "      <td>2018-05-14T15:59:47.000Z</td>\n",
       "      <td>周杰倫|\"Jay\"|\"Chou\"|\"周董\"|\"周杰伦\"|\"周傑倫\"|\"杰威尔\"|\"周周\"|\"...</td>\n",
       "      <td>916128</td>\n",
       "      <td>40485</td>\n",
       "      <td>1042</td>\n",
       "      <td>4746</td>\n",
       "      <td>https://i.ytimg.com/vi/MAjY8mCTXWk/default.jpg</td>\n",
       "      <td>False</td>\n",
       "      <td>False</td>\n",
       "      <td>False</td>\n",
       "      <td>詞：周杰倫、宋健彰（彈頭）  曲：周杰倫憂鬱型男的走心旋律  用英式搖滾宣洩情傷不愛我就拉倒...</td>\n",
       "    </tr>\n",
       "    <tr>\n",
       "      <th>郭韋辰</th>\n",
       "      <th>smRlXuBcp3c</th>\n",
       "      <td>17.07.12</td>\n",
       "      <td>2017-11-30-中國文化大學彩虹縮時(Taiwan,Taipei,CCU)   Thr...</td>\n",
       "      <td>28</td>\n",
       "      <td>2017-11-30T16:44:51.000Z</td>\n",
       "      <td>[none]</td>\n",
       "      <td>12594</td>\n",
       "      <td>48</td>\n",
       "      <td>1</td>\n",
       "      <td>4</td>\n",
       "      <td>https://i.ytimg.com/vi/smRlXuBcp3c/default.jpg</td>\n",
       "      <td>False</td>\n",
       "      <td>False</td>\n",
       "      <td>False</td>\n",
       "      <td>文化大學彩虹縮時紀錄，時間由11:43開始，每10秒1張照片。14:33電池沒電暫停拍攝，1...</td>\n",
       "    </tr>\n",
       "    <tr>\n",
       "      <th>영국남자 Korean Englishman</th>\n",
       "      <th>VioegwSjypk</th>\n",
       "      <td>18.04.01</td>\n",
       "      <td>한국 치맥 왕중왕전: 외국인 입맛에 제일 잘 맞는 한국 치킨은?!</td>\n",
       "      <td>23</td>\n",
       "      <td>2018-01-03T11:31:18.000Z</td>\n",
       "      <td>Korean|\"영국남자\"|\"영국\"|\"조쉬\"|\"올리\"|\"Josh\"|\"Ollie\"|\"K...</td>\n",
       "      <td>588820</td>\n",
       "      <td>18317</td>\n",
       "      <td>254</td>\n",
       "      <td>2214</td>\n",
       "      <td>https://i.ytimg.com/vi/VioegwSjypk/default.jpg</td>\n",
       "      <td>False</td>\n",
       "      <td>False</td>\n",
       "      <td>False</td>\n",
       "      <td>이번 시리즈 예고편: https://youtu.be/TlVAqQnggzI\\n오늘은 ...</td>\n",
       "    </tr>\n",
       "  </tbody>\n",
       "</table>\n",
       "<p>6364 rows × 14 columns</p>\n",
       "</div>"
      ],
      "text/plain": [
       "                                   trending_date  \\\n",
       "channel_title          video_id                    \n",
       "12 News                9KIP-Ncp2jU      17.15.11   \n",
       "1MILLION Dance Studio  QRq0pkr2TWM      18.25.02   \n",
       "                       WdOGSNQP9b4      18.08.03   \n",
       "                       XKl8Wg25DrM      18.14.04   \n",
       "                       _xwX82Y0Oro      18.01.03   \n",
       "...                                          ...   \n",
       "ワーナー ブラザース 公式チャンネル     QF031DwMffQ      17.03.12   \n",
       "圧倒的不審者の極み!             MeNR0guNn70      18.05.03   \n",
       "杰威爾音樂 JVR Music        MAjY8mCTXWk      18.15.05   \n",
       "郭韋辰                    smRlXuBcp3c      17.07.12   \n",
       "영국남자 Korean Englishman VioegwSjypk      18.04.01   \n",
       "\n",
       "                                                                                title  \\\n",
       "channel_title          video_id                                                         \n",
       "12 News                9KIP-Ncp2jU  Bill Gates bought land in Arizona to build tec...   \n",
       "1MILLION Dance Studio  QRq0pkr2TWM        Cheap Thrills - Sia / Tina Boo Choreography   \n",
       "                       WdOGSNQP9b4  This is me - The Greatest Showman OST / Jun Li...   \n",
       "                       XKl8Wg25DrM  Joga O Bum Bum Tam Tam - MC Fioti / Rikimaru C...   \n",
       "                       _xwX82Y0Oro  FRIENDS - Marshmello & Anne-Marie / Tina Boo C...   \n",
       "...                                                                               ...   \n",
       "ワーナー ブラザース 公式チャンネル     QF031DwMffQ    『ニンジャバットマン』 New York Comic Con公開映像【2018年劇場公開予定】   \n",
       "圧倒的不審者の極み!             MeNR0guNn70                               世界で一番切れるパスタの包丁を作りたい！   \n",
       "杰威爾音樂 JVR Music        MAjY8mCTXWk  周杰倫 Jay Chou【不愛我就拉倒 If You Don't Love Me, It's...   \n",
       "郭韋辰                    smRlXuBcp3c  2017-11-30-中國文化大學彩虹縮時(Taiwan,Taipei,CCU)   Thr...   \n",
       "영국남자 Korean Englishman VioegwSjypk               한국 치맥 왕중왕전: 외국인 입맛에 제일 잘 맞는 한국 치킨은?!   \n",
       "\n",
       "                                    category_id              publish_time  \\\n",
       "channel_title          video_id                                             \n",
       "12 News                9KIP-Ncp2jU           22  2017-11-11T01:03:01.000Z   \n",
       "1MILLION Dance Studio  QRq0pkr2TWM           24  2018-02-19T12:00:02.000Z   \n",
       "                       WdOGSNQP9b4           24  2018-03-07T12:00:04.000Z   \n",
       "                       XKl8Wg25DrM           24  2018-04-10T12:00:05.000Z   \n",
       "                       _xwX82Y0Oro           24  2018-02-28T09:00:03.000Z   \n",
       "...                                         ...                       ...   \n",
       "ワーナー ブラザース 公式チャンネル     QF031DwMffQ            1  2017-12-01T09:06:02.000Z   \n",
       "圧倒的不審者の極み!             MeNR0guNn70           28  2018-03-03T16:16:15.000Z   \n",
       "杰威爾音樂 JVR Music        MAjY8mCTXWk           10  2018-05-14T15:59:47.000Z   \n",
       "郭韋辰                    smRlXuBcp3c           28  2017-11-30T16:44:51.000Z   \n",
       "영국남자 Korean Englishman VioegwSjypk           23  2018-01-03T11:31:18.000Z   \n",
       "\n",
       "                                                                                 tags  \\\n",
       "channel_title          video_id                                                         \n",
       "12 News                9KIP-Ncp2jU  Arizona|\"Bill gates\"|\"land\"|\"tech city\"|\"smart...   \n",
       "1MILLION Dance Studio  QRq0pkr2TWM  choreography|\"1million dance studio\"|\"원밀리언 댄스 ...   \n",
       "                       WdOGSNQP9b4  choreography|\"1million dance studio\"|\"원밀리언 댄스 ...   \n",
       "                       XKl8Wg25DrM  choreography|\"1million dance studio\"|\"원밀리언 댄스 ...   \n",
       "                       _xwX82Y0Oro  choreography|\"1million dance studio\"|\"원밀리언 댄스 ...   \n",
       "...                                                                               ...   \n",
       "ワーナー ブラザース 公式チャンネル     QF031DwMffQ  ニンジャバットマン|\"batman ninja\"|\"batman\"|\"神風動画\"|\"水﨑淳平...   \n",
       "圧倒的不審者の極み!             MeNR0guNn70  kiwami|\"作ってみた\"|\"作り方\"|\"作成\"|\"作製\"|\"自作\"|\"How\"|\"to\"...   \n",
       "杰威爾音樂 JVR Music        MAjY8mCTXWk  周杰倫|\"Jay\"|\"Chou\"|\"周董\"|\"周杰伦\"|\"周傑倫\"|\"杰威尔\"|\"周周\"|\"...   \n",
       "郭韋辰                    smRlXuBcp3c                                             [none]   \n",
       "영국남자 Korean Englishman VioegwSjypk  Korean|\"영국남자\"|\"영국\"|\"조쉬\"|\"올리\"|\"Josh\"|\"Ollie\"|\"K...   \n",
       "\n",
       "                                     views  likes  dislikes  comment_count  \\\n",
       "channel_title          video_id                                              \n",
       "12 News                9KIP-Ncp2jU   85643    170        45              0   \n",
       "1MILLION Dance Studio  QRq0pkr2TWM  601159  27962       336            444   \n",
       "                       WdOGSNQP9b4  210802  17499       134            644   \n",
       "                       XKl8Wg25DrM  537267  50334       568           6899   \n",
       "                       _xwX82Y0Oro  384249  26271       238            540   \n",
       "...                                    ...    ...       ...            ...   \n",
       "ワーナー ブラザース 公式チャンネル     QF031DwMffQ  755014  15686       558           1768   \n",
       "圧倒的不審者の極み!             MeNR0guNn70  294419   7310       378           2780   \n",
       "杰威爾音樂 JVR Music        MAjY8mCTXWk  916128  40485      1042           4746   \n",
       "郭韋辰                    smRlXuBcp3c   12594     48         1              4   \n",
       "영국남자 Korean Englishman VioegwSjypk  588820  18317       254           2214   \n",
       "\n",
       "                                                                    thumbnail_link  \\\n",
       "channel_title          video_id                                                      \n",
       "12 News                9KIP-Ncp2jU  https://i.ytimg.com/vi/9KIP-Ncp2jU/default.jpg   \n",
       "1MILLION Dance Studio  QRq0pkr2TWM  https://i.ytimg.com/vi/QRq0pkr2TWM/default.jpg   \n",
       "                       WdOGSNQP9b4  https://i.ytimg.com/vi/WdOGSNQP9b4/default.jpg   \n",
       "                       XKl8Wg25DrM  https://i.ytimg.com/vi/XKl8Wg25DrM/default.jpg   \n",
       "                       _xwX82Y0Oro  https://i.ytimg.com/vi/_xwX82Y0Oro/default.jpg   \n",
       "...                                                                            ...   \n",
       "ワーナー ブラザース 公式チャンネル     QF031DwMffQ  https://i.ytimg.com/vi/QF031DwMffQ/default.jpg   \n",
       "圧倒的不審者の極み!             MeNR0guNn70  https://i.ytimg.com/vi/MeNR0guNn70/default.jpg   \n",
       "杰威爾音樂 JVR Music        MAjY8mCTXWk  https://i.ytimg.com/vi/MAjY8mCTXWk/default.jpg   \n",
       "郭韋辰                    smRlXuBcp3c  https://i.ytimg.com/vi/smRlXuBcp3c/default.jpg   \n",
       "영국남자 Korean Englishman VioegwSjypk  https://i.ytimg.com/vi/VioegwSjypk/default.jpg   \n",
       "\n",
       "                                    comments_disabled  ratings_disabled  \\\n",
       "channel_title          video_id                                           \n",
       "12 News                9KIP-Ncp2jU              False             False   \n",
       "1MILLION Dance Studio  QRq0pkr2TWM              False             False   \n",
       "                       WdOGSNQP9b4              False             False   \n",
       "                       XKl8Wg25DrM              False             False   \n",
       "                       _xwX82Y0Oro              False             False   \n",
       "...                                               ...               ...   \n",
       "ワーナー ブラザース 公式チャンネル     QF031DwMffQ              False             False   \n",
       "圧倒的不審者の極み!             MeNR0guNn70              False             False   \n",
       "杰威爾音樂 JVR Music        MAjY8mCTXWk              False             False   \n",
       "郭韋辰                    smRlXuBcp3c              False             False   \n",
       "영국남자 Korean Englishman VioegwSjypk              False             False   \n",
       "\n",
       "                                    video_error_or_removed  \\\n",
       "channel_title          video_id                              \n",
       "12 News                9KIP-Ncp2jU                   False   \n",
       "1MILLION Dance Studio  QRq0pkr2TWM                   False   \n",
       "                       WdOGSNQP9b4                   False   \n",
       "                       XKl8Wg25DrM                   False   \n",
       "                       _xwX82Y0Oro                   False   \n",
       "...                                                    ...   \n",
       "ワーナー ブラザース 公式チャンネル     QF031DwMffQ                   False   \n",
       "圧倒的不審者の極み!             MeNR0guNn70                   False   \n",
       "杰威爾音樂 JVR Music        MAjY8mCTXWk                   False   \n",
       "郭韋辰                    smRlXuBcp3c                   False   \n",
       "영국남자 Korean Englishman VioegwSjypk                   False   \n",
       "\n",
       "                                                                          description  \n",
       "channel_title          video_id                                                        \n",
       "12 News                9KIP-Ncp2jU  Philanthropist  and inventor Bill Gates paid $...  \n",
       "1MILLION Dance Studio  QRq0pkr2TWM  Tina boo teaches choreography to Cheap Thrills...  \n",
       "                       WdOGSNQP9b4  Jun Liu teaches choreography to This is me by ...  \n",
       "                       XKl8Wg25DrM  Rikimaru teaches choreography to Joga O Bum Bu...  \n",
       "                       _xwX82Y0Oro  Tina Boo teaches choreography to FRIENDS by Ma...  \n",
       "...                                                                               ...  \n",
       "ワーナー ブラザース 公式チャンネル     QF031DwMffQ  日本発！世界に放つ！最強エンタメ！\\n２０１８年劇場公開予定　『ニンジャバットマン』\\n\\n...  \n",
       "圧倒的不審者の極み!             MeNR0guNn70  この動画は、ある男がパスタを包丁にする為に2週間パスタを食べながら開発に取り組んだヒューマン...  \n",
       "杰威爾音樂 JVR Music        MAjY8mCTXWk  詞：周杰倫、宋健彰（彈頭）  曲：周杰倫憂鬱型男的走心旋律  用英式搖滾宣洩情傷不愛我就拉倒...  \n",
       "郭韋辰                    smRlXuBcp3c  文化大學彩虹縮時紀錄，時間由11:43開始，每10秒1張照片。14:33電池沒電暫停拍攝，1...  \n",
       "영국남자 Korean Englishman VioegwSjypk  이번 시리즈 예고편: https://youtu.be/TlVAqQnggzI\\n오늘은 ...  \n",
       "\n",
       "[6364 rows x 14 columns]"
      ]
     },
     "execution_count": 7,
     "metadata": {},
     "output_type": "execute_result"
    }
   ],
   "source": [
    "df.first()"
   ]
  },
  {
   "cell_type": "code",
   "execution_count": 8,
   "metadata": {},
   "outputs": [],
   "source": [
    "us_channel = us_data.groupby(\"channel_title\").get_group(\"12 News\")"
   ]
  },
  {
   "cell_type": "code",
   "execution_count": 10,
   "metadata": {},
   "outputs": [],
   "source": [
    "def get_channel_info(channel_name, data):\n",
    "    channel = data.groupby(\"channel_title\").get_group(channel_name)\n",
    "    return channel"
   ]
  },
  {
   "cell_type": "code",
   "execution_count": 11,
   "metadata": {},
   "outputs": [
    {
     "data": {
      "text/html": [
       "<div>\n",
       "<style scoped>\n",
       "    .dataframe tbody tr th:only-of-type {\n",
       "        vertical-align: middle;\n",
       "    }\n",
       "\n",
       "    .dataframe tbody tr th {\n",
       "        vertical-align: top;\n",
       "    }\n",
       "\n",
       "    .dataframe thead th {\n",
       "        text-align: right;\n",
       "    }\n",
       "</style>\n",
       "<table border=\"1\" class=\"dataframe\">\n",
       "  <thead>\n",
       "    <tr style=\"text-align: right;\">\n",
       "      <th></th>\n",
       "      <th>video_id</th>\n",
       "      <th>trending_date</th>\n",
       "      <th>title</th>\n",
       "      <th>channel_title</th>\n",
       "      <th>category_id</th>\n",
       "      <th>publish_time</th>\n",
       "      <th>tags</th>\n",
       "      <th>views</th>\n",
       "      <th>likes</th>\n",
       "      <th>dislikes</th>\n",
       "      <th>comment_count</th>\n",
       "      <th>thumbnail_link</th>\n",
       "      <th>comments_disabled</th>\n",
       "      <th>ratings_disabled</th>\n",
       "      <th>video_error_or_removed</th>\n",
       "      <th>description</th>\n",
       "    </tr>\n",
       "  </thead>\n",
       "  <tbody>\n",
       "    <tr>\n",
       "      <th>318</th>\n",
       "      <td>9KIP-Ncp2jU</td>\n",
       "      <td>17.15.11</td>\n",
       "      <td>Bill Gates bought land in Arizona to build tec...</td>\n",
       "      <td>12 News</td>\n",
       "      <td>22</td>\n",
       "      <td>2017-11-11T01:03:01.000Z</td>\n",
       "      <td>Arizona|\"Bill gates\"|\"land\"|\"tech city\"|\"smart...</td>\n",
       "      <td>85643</td>\n",
       "      <td>170</td>\n",
       "      <td>45</td>\n",
       "      <td>0</td>\n",
       "      <td>https://i.ytimg.com/vi/9KIP-Ncp2jU/default.jpg</td>\n",
       "      <td>False</td>\n",
       "      <td>False</td>\n",
       "      <td>False</td>\n",
       "      <td>Philanthropist  and inventor Bill Gates paid $...</td>\n",
       "    </tr>\n",
       "    <tr>\n",
       "      <th>555</th>\n",
       "      <td>9KIP-Ncp2jU</td>\n",
       "      <td>17.16.11</td>\n",
       "      <td>Bill Gates bought land in Arizona to build tec...</td>\n",
       "      <td>12 News</td>\n",
       "      <td>22</td>\n",
       "      <td>2017-11-11T01:03:01.000Z</td>\n",
       "      <td>Arizona|\"Bill gates\"|\"land\"|\"tech city\"|\"smart...</td>\n",
       "      <td>92327</td>\n",
       "      <td>182</td>\n",
       "      <td>45</td>\n",
       "      <td>0</td>\n",
       "      <td>https://i.ytimg.com/vi/9KIP-Ncp2jU/default.jpg</td>\n",
       "      <td>False</td>\n",
       "      <td>False</td>\n",
       "      <td>False</td>\n",
       "      <td>Philanthropist  and inventor Bill Gates paid $...</td>\n",
       "    </tr>\n",
       "  </tbody>\n",
       "</table>\n",
       "</div>"
      ],
      "text/plain": [
       "        video_id trending_date  \\\n",
       "318  9KIP-Ncp2jU      17.15.11   \n",
       "555  9KIP-Ncp2jU      17.16.11   \n",
       "\n",
       "                                                 title channel_title  \\\n",
       "318  Bill Gates bought land in Arizona to build tec...       12 News   \n",
       "555  Bill Gates bought land in Arizona to build tec...       12 News   \n",
       "\n",
       "     category_id              publish_time  \\\n",
       "318           22  2017-11-11T01:03:01.000Z   \n",
       "555           22  2017-11-11T01:03:01.000Z   \n",
       "\n",
       "                                                  tags  views  likes  \\\n",
       "318  Arizona|\"Bill gates\"|\"land\"|\"tech city\"|\"smart...  85643    170   \n",
       "555  Arizona|\"Bill gates\"|\"land\"|\"tech city\"|\"smart...  92327    182   \n",
       "\n",
       "     dislikes  comment_count                                  thumbnail_link  \\\n",
       "318        45              0  https://i.ytimg.com/vi/9KIP-Ncp2jU/default.jpg   \n",
       "555        45              0  https://i.ytimg.com/vi/9KIP-Ncp2jU/default.jpg   \n",
       "\n",
       "     comments_disabled  ratings_disabled  video_error_or_removed  \\\n",
       "318              False             False                   False   \n",
       "555              False             False                   False   \n",
       "\n",
       "                                           description  \n",
       "318  Philanthropist  and inventor Bill Gates paid $...  \n",
       "555  Philanthropist  and inventor Bill Gates paid $...  "
      ]
     },
     "execution_count": 11,
     "metadata": {},
     "output_type": "execute_result"
    }
   ],
   "source": [
    "get_channel_info('12 News', us_data)"
   ]
  },
  {
   "cell_type": "code",
   "execution_count": 12,
   "metadata": {},
   "outputs": [],
   "source": [
    "def generate_tags_count_dict(data):\n",
    "    tags = data['tags']\n",
    "    tags_count_dict = {}\n",
    "    for line in tags:\n",
    "        line = line.lower()\n",
    "        line = line.split(\"|\")\n",
    "        for word in line:\n",
    "            word = re.sub(\"(\\\")\",\"\",word)\n",
    "            if word not in tags_count_dict.keys():\n",
    "                tags_count_dict[word] = 0\n",
    "            tags_count_dict[word] = tags_count_dict[word] + 1\n",
    "    return tags_count_dict"
   ]
  },
  {
   "cell_type": "code",
   "execution_count": 13,
   "metadata": {},
   "outputs": [],
   "source": [
    "us_tags_count_dict = generate_tags_count_dict(us_data)"
   ]
  },
  {
   "cell_type": "code",
   "execution_count": 14,
   "metadata": {},
   "outputs": [
    {
     "name": "stdout",
     "output_type": "stream",
     "text": [
      "<class 'pandas.core.frame.DataFrame'>\n",
      "RangeIndex: 40949 entries, 0 to 40948\n",
      "Data columns (total 16 columns):\n",
      " #   Column                  Non-Null Count  Dtype \n",
      "---  ------                  --------------  ----- \n",
      " 0   video_id                40949 non-null  object\n",
      " 1   trending_date           40949 non-null  object\n",
      " 2   title                   40949 non-null  object\n",
      " 3   channel_title           40949 non-null  object\n",
      " 4   category_id             40949 non-null  int64 \n",
      " 5   publish_time            40949 non-null  object\n",
      " 6   tags                    40949 non-null  object\n",
      " 7   views                   40949 non-null  int64 \n",
      " 8   likes                   40949 non-null  int64 \n",
      " 9   dislikes                40949 non-null  int64 \n",
      " 10  comment_count           40949 non-null  int64 \n",
      " 11  thumbnail_link          40949 non-null  object\n",
      " 12  comments_disabled       40949 non-null  bool  \n",
      " 13  ratings_disabled        40949 non-null  bool  \n",
      " 14  video_error_or_removed  40949 non-null  bool  \n",
      " 15  description             40379 non-null  object\n",
      "dtypes: bool(3), int64(5), object(8)\n",
      "memory usage: 4.2+ MB\n"
     ]
    }
   ],
   "source": [
    "us_data.info()"
   ]
  },
  {
   "cell_type": "code",
   "execution_count": 15,
   "metadata": {},
   "outputs": [],
   "source": [
    "def generate_info_dict(data):\n",
    "    info = {}\n",
    "    info['count'] = len(data)\n",
    "    info['most_pop_video'] = data.sort_values(by='views', ascending=False).iloc[0]['video_id']\n",
    "    info['max_views'] = data.sort_values(by='views', ascending=False).iloc[0]['views']\n",
    "    info['total_views'] = sum(data['views'])\n",
    "    info['avg_views'] = data['views'].mean()\n",
    "    info['max_likes'] = data.sort_values(by='likes', ascending=False).iloc[0]['likes']\n",
    "    info['total_likes'] = sum(data['likes'])\n",
    "    info['avg_likes'] = data['likes'].mean()\n",
    "    info['total_dislikes'] = sum(data['dislikes'])\n",
    "    info['avg_dislikes'] = data['dislikes'].mean()\n",
    "    info['total_comment'] = sum(data['comment_count'])\n",
    "    info['avg_comment'] = data['comment_count'].mean()\n",
    "    return info"
   ]
  },
  {
   "cell_type": "code",
   "execution_count": 17,
   "metadata": {},
   "outputs": [
    {
     "data": {
      "text/plain": [
       "{'count': 2,\n",
       " 'most_pop_video': '9KIP-Ncp2jU',\n",
       " 'max_views': 92327,\n",
       " 'total_views': 177970,\n",
       " 'avg_views': 88985.0,\n",
       " 'max_likes': 182,\n",
       " 'total_likes': 352,\n",
       " 'avg_likes': 176.0,\n",
       " 'total_dislikes': 90,\n",
       " 'avg_dislikes': 45.0,\n",
       " 'total_comment': 0,\n",
       " 'avg_comment': 0.0}"
      ]
     },
     "execution_count": 17,
     "metadata": {},
     "output_type": "execute_result"
    }
   ],
   "source": [
    "generate_info_dict(us_channel)"
   ]
  },
  {
   "cell_type": "code",
   "execution_count": 18,
   "metadata": {},
   "outputs": [
    {
     "data": {
      "text/plain": [
       "{'count': 40949,\n",
       " 'most_pop_video': 'VYOjWnS4cMY',\n",
       " 'max_views': 225211923,\n",
       " 'total_views': 96671770152,\n",
       " 'avg_views': 2360784.6382573447,\n",
       " 'max_likes': 5613827,\n",
       " 'total_likes': 3041147198,\n",
       " 'avg_likes': 74266.7024347359,\n",
       " 'total_dislikes': 151978155,\n",
       " 'avg_dislikes': 3711.400888910596,\n",
       " 'total_comment': 345888164,\n",
       " 'avg_comment': 8446.803682629612}"
      ]
     },
     "execution_count": 18,
     "metadata": {},
     "output_type": "execute_result"
    }
   ],
   "source": [
    "generate_info_dict(us_data)"
   ]
  },
  {
   "cell_type": "code",
   "execution_count": 19,
   "metadata": {},
   "outputs": [],
   "source": [
    "def generate_channel_dict(data):\n",
    "    channel_tags_dict = {}\n",
    "    channel_video_dict = {}\n",
    "    channel_category_dict = {}\n",
    "    channel_info_dict = {}\n",
    "    channel_list = set(data['channel_title'])\n",
    "    for channel in channel_list:\n",
    "        channel_data = data.groupby(\"channel_title\").get_group(channel)\n",
    "        channel_info_dict[channel] = generate_info_dict(channel_data)\n",
    "        channel_video_dict[channel] = channel_data['video_id'].tolist()\n",
    "        channel_tags_dict[channel] = generate_tags_count_dict(channel_data)\n",
    "        channel_category_dict[channel] = set(channel_data['category_id'])\n",
    "    return channel_info_dict, channel_tags_dict, channel_video_dict, channel_category_dict"
   ]
  },
  {
   "cell_type": "code",
   "execution_count": 20,
   "metadata": {},
   "outputs": [],
   "source": [
    "us_channel_info_dict, us_channel_tags_dict, us_channel_video_dict, us_channel_category_dict = generate_channel_dict(us_data)"
   ]
  },
  {
   "cell_type": "code",
   "execution_count": 21,
   "metadata": {},
   "outputs": [],
   "source": [
    "def generate_category_dicts(data):\n",
    "    category_tags_dict = {}\n",
    "    category_video_dict = {}\n",
    "    category_channel_dict = {}\n",
    "    category_info_dict = {}\n",
    "    category_list = set(data['category_id'])\n",
    "    print(category_list)\n",
    "    for category_id in category_list:\n",
    "        cate_data = data.groupby(\"category_id\").get_group(category_id)\n",
    "        category_info_dict[category_id] = generate_info_dict(cate_data)\n",
    "        category_video_dict[category_id] = cate_data['video_id'].tolist()\n",
    "        category_tags_dict[category_id] = generate_tags_count_dict(cate_data)\n",
    "        category_channel_dict[category_id] = set(cate_data['channel_title'])\n",
    "        #data = data.groupby(\"category_id\").get_group(category_id)\n",
    "    return category_info_dict, category_tags_dict, category_video_dict, category_channel_dict"
   ]
  },
  {
   "cell_type": "code",
   "execution_count": 22,
   "metadata": {},
   "outputs": [
    {
     "name": "stdout",
     "output_type": "stream",
     "text": [
      "{1, 2, 10, 43, 15, 17, 19, 20, 22, 23, 24, 25, 26, 27, 28, 29}\n"
     ]
    }
   ],
   "source": [
    "us_cate_info, us_cate_tag, us_cate_video, us_cate_channel = generate_category_dicts(us_data)"
   ]
  },
  {
   "cell_type": "code",
   "execution_count": 23,
   "metadata": {},
   "outputs": [
    {
     "name": "stdout",
     "output_type": "stream",
     "text": [
      "{1, 2, 10, 43, 15, 17, 19, 20, 22, 23, 24, 25, 26, 27, 28, 29, 30}\n",
      "{1, 2, 10, 43, 15, 17, 19, 20, 22, 23, 24, 25, 26, 27, 28, 29}\n"
     ]
    }
   ],
   "source": [
    "ca_cate_info, ca_cate_tag, ca_cate_video, ca_cate_channel = generate_category_dicts(ca_data)\n",
    "gb_cate_info, gb_cate_tag, gb_cate_video, gb_cate_channel = generate_category_dicts(gb_data)"
   ]
  },
  {
   "cell_type": "code",
   "execution_count": 24,
   "metadata": {},
   "outputs": [
    {
     "name": "stdout",
     "output_type": "stream",
     "text": [
      "{1, 2, 10, 43, 15, 17, 19, 20, 22, 23, 24, 25, 26, 27, 28, 29, 30}\n"
     ]
    }
   ],
   "source": [
    "whole_cate_info, whole_cate_tag, whole_cate_video, whole_cate_channel = generate_category_dicts(whole_data)"
   ]
  },
  {
   "cell_type": "code",
   "execution_count": 25,
   "metadata": {},
   "outputs": [
    {
     "data": {
      "text/plain": [
       "{1: {'count': 2345,\n",
       "  'most_pop_video': 'ulNswX3If6U',\n",
       "  'max_views': 54863912,\n",
       "  'total_views': 7284156721,\n",
       "  'avg_views': 3106250.2008528784,\n",
       "  'max_likes': 922355,\n",
       "  'total_likes': 165997476,\n",
       "  'avg_likes': 70787.83624733475,\n",
       "  'total_dislikes': 6075148,\n",
       "  'avg_dislikes': 2590.68144989339,\n",
       "  'total_comment': 17887060,\n",
       "  'avg_comment': 7627.744136460555},\n",
       " 2: {'count': 384,\n",
       "  'most_pop_video': 'cqg5oc20nxk',\n",
       "  'max_views': 25244097,\n",
       "  'total_views': 520690717,\n",
       "  'avg_views': 1355965.4088541667,\n",
       "  'max_likes': 97030,\n",
       "  'total_likes': 4245656,\n",
       "  'avg_likes': 11056.395833333334,\n",
       "  'total_dislikes': 243010,\n",
       "  'avg_dislikes': 632.8385416666666,\n",
       "  'total_comment': 784447,\n",
       "  'avg_comment': 2042.8307291666667},\n",
       " 10: {'count': 6472,\n",
       "  'most_pop_video': 'VYOjWnS4cMY',\n",
       "  'max_views': 225211923,\n",
       "  'total_views': 40132892190,\n",
       "  'avg_views': 6201003.119592089,\n",
       "  'max_likes': 5613827,\n",
       "  'total_likes': 1416838584,\n",
       "  'avg_likes': 218918.19901112485,\n",
       "  'total_dislikes': 51179008,\n",
       "  'avg_dislikes': 7907.757725587145,\n",
       "  'total_comment': 125296396,\n",
       "  'avg_comment': 19359.764524103834},\n",
       " 43: {'count': 57,\n",
       "  'most_pop_video': '7_FJUSBFbJM',\n",
       "  'max_views': 1445949,\n",
       "  'total_views': 51501058,\n",
       "  'avg_views': 903527.3333333334,\n",
       "  'max_likes': 33261,\n",
       "  'total_likes': 1082639,\n",
       "  'avg_likes': 18993.666666666668,\n",
       "  'total_dislikes': 24508,\n",
       "  'avg_dislikes': 429.96491228070175,\n",
       "  'total_comment': 95117,\n",
       "  'avg_comment': 1668.719298245614},\n",
       " 15: {'count': 920,\n",
       "  'most_pop_video': 'nWZMfPP34g8',\n",
       "  'max_views': 6187457,\n",
       "  'total_views': 764651989,\n",
       "  'avg_views': 831143.4663043479,\n",
       "  'max_likes': 178243,\n",
       "  'total_likes': 19370702,\n",
       "  'avg_likes': 21055.11086956522,\n",
       "  'total_dislikes': 527379,\n",
       "  'avg_dislikes': 573.2380434782609,\n",
       "  'total_comment': 2660705,\n",
       "  'avg_comment': 2892.070652173913},\n",
       " 17: {'count': 2174,\n",
       "  'most_pop_video': 'VRJmcxCrAOA',\n",
       "  'max_views': 29090799,\n",
       "  'total_views': 4404456673,\n",
       "  'avg_views': 2025969.0308187671,\n",
       "  'max_likes': 1121217,\n",
       "  'total_likes': 98621211,\n",
       "  'avg_likes': 45363.942502299906,\n",
       "  'total_dislikes': 5133551,\n",
       "  'avg_dislikes': 2361.339006439742,\n",
       "  'total_comment': 11192155,\n",
       "  'avg_comment': 5148.185372585097},\n",
       " 19: {'count': 402,\n",
       "  'most_pop_video': 'yvicqMrAHvQ',\n",
       "  'max_views': 23932421,\n",
       "  'total_views': 343557084,\n",
       "  'avg_views': 854619.6119402985,\n",
       "  'max_likes': 42447,\n",
       "  'total_likes': 4836246,\n",
       "  'avg_likes': 12030.462686567163,\n",
       "  'total_dislikes': 340427,\n",
       "  'avg_dislikes': 846.8333333333334,\n",
       "  'total_comment': 911511,\n",
       "  'avg_comment': 2267.4402985074626},\n",
       " 20: {'count': 817,\n",
       "  'most_pop_video': 'uVcvhKTVZ8g',\n",
       "  'max_views': 16935442,\n",
       "  'total_views': 2141218625,\n",
       "  'avg_views': 2620830.630354957,\n",
       "  'max_likes': 444203,\n",
       "  'total_likes': 69038284,\n",
       "  'avg_likes': 84502.1835985312,\n",
       "  'total_dislikes': 9184466,\n",
       "  'avg_dislikes': 11241.696450428397,\n",
       "  'total_comment': 14740713,\n",
       "  'avg_comment': 18042.488372093023},\n",
       " 22: {'count': 3210,\n",
       "  'most_pop_video': 'BhIEIO0vaBE',\n",
       "  'max_views': 56111957,\n",
       "  'total_views': 4917191726,\n",
       "  'avg_views': 1531835.428660436,\n",
       "  'max_likes': 2032463,\n",
       "  'total_likes': 186615999,\n",
       "  'avg_likes': 58135.82523364486,\n",
       "  'total_dislikes': 10187901,\n",
       "  'avg_dislikes': 3173.8009345794394,\n",
       "  'total_comment': 24778032,\n",
       "  'avg_comment': 7719.01308411215},\n",
       " 23: {'count': 3457,\n",
       "  'most_pop_video': '4kDklB6-69Q',\n",
       "  'max_views': 29178096,\n",
       "  'total_views': 5117426208,\n",
       "  'avg_views': 1480308.420017356,\n",
       "  'max_likes': 865679,\n",
       "  'total_likes': 216346746,\n",
       "  'avg_likes': 62582.22331501302,\n",
       "  'total_dislikes': 7230391,\n",
       "  'avg_dislikes': 2091.521839745444,\n",
       "  'total_comment': 22545582,\n",
       "  'avg_comment': 6521.718831356668},\n",
       " 24: {'count': 9964,\n",
       "  'most_pop_video': 'FlsCjmMhFmw',\n",
       "  'max_views': 149376127,\n",
       "  'total_views': 20604388195,\n",
       "  'avg_views': 2067883.1990164593,\n",
       "  'max_likes': 3093544,\n",
       "  'total_likes': 530516491,\n",
       "  'avg_likes': 53243.32507025291,\n",
       "  'total_dislikes': 42987663,\n",
       "  'avg_dislikes': 4314.297771979125,\n",
       "  'total_comment': 73566498,\n",
       "  'avg_comment': 7383.22942593336},\n",
       " 25: {'count': 2487,\n",
       "  'most_pop_video': 'Kc6CIwBVo5s',\n",
       "  'max_views': 10277358,\n",
       "  'total_views': 1473765704,\n",
       "  'avg_views': 592587.7378367512,\n",
       "  'max_likes': 163338,\n",
       "  'total_likes': 18151033,\n",
       "  'avg_likes': 7298.364696421391,\n",
       "  'total_dislikes': 4180049,\n",
       "  'avg_dislikes': 1680.7595496582228,\n",
       "  'total_comment': 6039433,\n",
       "  'avg_comment': 2428.4008845999197},\n",
       " 26: {'count': 4146,\n",
       "  'most_pop_video': '_9YMpuLDnwo',\n",
       "  'max_views': 54155921,\n",
       "  'total_views': 4078545064,\n",
       "  'avg_views': 983730.1167390256,\n",
       "  'max_likes': 605954,\n",
       "  'total_likes': 162880075,\n",
       "  'avg_likes': 39286.07694163049,\n",
       "  'total_dislikes': 5473899,\n",
       "  'avg_dislikes': 1320.2843704775687,\n",
       "  'total_comment': 23149550,\n",
       "  'avg_comment': 5583.58658948384},\n",
       " 27: {'count': 1656,\n",
       "  'most_pop_video': 'c8W-auqg024',\n",
       "  'max_views': 7349435,\n",
       "  'total_views': 1180629990,\n",
       "  'avg_views': 712940.8152173914,\n",
       "  'max_likes': 240989,\n",
       "  'total_likes': 49257772,\n",
       "  'avg_likes': 29745.031400966185,\n",
       "  'total_dislikes': 1351972,\n",
       "  'avg_dislikes': 816.4082125603865,\n",
       "  'total_comment': 5442242,\n",
       "  'avg_comment': 3286.3780193236717},\n",
       " 28: {'count': 2401,\n",
       "  'most_pop_video': 'yDiXQl7grPQ',\n",
       "  'max_views': 42799458,\n",
       "  'total_views': 3487756816,\n",
       "  'avg_views': 1452626.7455226989,\n",
       "  'max_likes': 564804,\n",
       "  'total_likes': 82532638,\n",
       "  'avg_likes': 34374.2765514369,\n",
       "  'total_dislikes': 4548402,\n",
       "  'avg_dislikes': 1894.3781757601,\n",
       "  'total_comment': 11989926,\n",
       "  'avg_comment': 4993.721782590587},\n",
       " 29: {'count': 57,\n",
       "  'most_pop_video': 'oWjxSkJpxFU',\n",
       "  'max_views': 24286474,\n",
       "  'total_views': 168941392,\n",
       "  'avg_views': 2963884.0701754387,\n",
       "  'max_likes': 1988746,\n",
       "  'total_likes': 14815646,\n",
       "  'avg_likes': 259923.61403508772,\n",
       "  'total_dislikes': 3310381,\n",
       "  'avg_dislikes': 58076.85964912281,\n",
       "  'total_comment': 4808797,\n",
       "  'avg_comment': 84364.85964912281}}"
      ]
     },
     "execution_count": 25,
     "metadata": {},
     "output_type": "execute_result"
    }
   ],
   "source": [
    "us_cate_info"
   ]
  },
  {
   "cell_type": "code",
   "execution_count": 26,
   "metadata": {},
   "outputs": [
    {
     "data": {
      "text/plain": [
       "0        17.14.11\n",
       "1        17.14.11\n",
       "2        17.14.11\n",
       "3        17.14.11\n",
       "4        17.14.11\n",
       "           ...   \n",
       "40944    18.14.06\n",
       "40945    18.14.06\n",
       "40946    18.14.06\n",
       "40947    18.14.06\n",
       "40948    18.14.06\n",
       "Name: trending_date, Length: 40949, dtype: object"
      ]
     },
     "execution_count": 26,
     "metadata": {},
     "output_type": "execute_result"
    }
   ],
   "source": [
    "us_data['trending_date']"
   ]
  },
  {
   "cell_type": "code",
   "execution_count": 27,
   "metadata": {},
   "outputs": [],
   "source": [
    "def views_category_graph(cate_info):\n",
    "    max_view_list = []\n",
    "    category = []\n",
    "    for item in cate_info.items():\n",
    "        max_view_list.append(item[1]['max_views'])\n",
    "        category.append(str(item[0]))\n",
    "    plt.bar(category, max_view_list)\n",
    "    plt.ylabel(\"highest views\")\n",
    "    plt.xlabel(\"category_id\")"
   ]
  },
  {
   "cell_type": "code",
   "execution_count": 28,
   "metadata": {},
   "outputs": [
    {
     "data": {
      "image/png": "[encoded data removed]",
      "text/plain": [
       "<Figure size 432x288 with 1 Axes>"
      ]
     },
     "metadata": {
      "needs_background": "light"
     },
     "output_type": "display_data"
    }
   ],
   "source": [
    "views_category_graph(us_cate_info)"
   ]
  },
  {
   "cell_type": "code",
   "execution_count": 29,
   "metadata": {},
   "outputs": [
    {
     "data": {
      "image/png": "[encoded data removed]",
      "text/plain": [
       "<Figure size 432x288 with 1 Axes>"
      ]
     },
     "metadata": {
      "needs_background": "light"
     },
     "output_type": "display_data"
    }
   ],
   "source": [
    "views_category_graph(gb_cate_info)"
   ]
  },
  {
   "cell_type": "code",
   "execution_count": 30,
   "metadata": {},
   "outputs": [
    {
     "data": {
      "image/png": "[encoded data removed]",
      "text/plain": [
       "<Figure size 432x288 with 1 Axes>"
      ]
     },
     "metadata": {
      "needs_background": "light"
     },
     "output_type": "display_data"
    }
   ],
   "source": [
    "views_category_graph(ca_cate_info)"
   ]
  },
  {
   "cell_type": "code",
   "execution_count": 31,
   "metadata": {},
   "outputs": [
    {
     "data": {
      "image/png": "[encoded data removed]",
      "text/plain": [
       "<Figure size 432x288 with 1 Axes>"
      ]
     },
     "metadata": {
      "needs_background": "light"
     },
     "output_type": "display_data"
    }
   ],
   "source": [
    "views_category_graph(whole_cate_info)"
   ]
  },
  {
   "cell_type": "code",
   "execution_count": 32,
   "metadata": {},
   "outputs": [],
   "source": [
    "def num_contents_category_graph(cate_info):\n",
    "    count_list = []\n",
    "    category = []\n",
    "    for item in cate_info.items():\n",
    "        count_list.append(item[1]['count'])\n",
    "        category.append(str(item[0]))\n",
    "    plt.bar(category, count_list)\n",
    "    plt.ylabel(\"number of contents\")\n",
    "    plt.xlabel(\"category_id\")"
   ]
  },
  {
   "cell_type": "code",
   "execution_count": 33,
   "metadata": {},
   "outputs": [
    {
     "data": {
      "image/png": "[encoded data removed]",
      "text/plain": [
       "<Figure size 432x288 with 1 Axes>"
      ]
     },
     "metadata": {
      "needs_background": "light"
     },
     "output_type": "display_data"
    }
   ],
   "source": [
    "num_contents_category_graph(us_cate_info)"
   ]
  },
  {
   "cell_type": "code",
   "execution_count": 34,
   "metadata": {},
   "outputs": [
    {
     "data": {
      "image/png": "[encoded data removed]",
      "text/plain": [
       "<Figure size 432x288 with 1 Axes>"
      ]
     },
     "metadata": {
      "needs_background": "light"
     },
     "output_type": "display_data"
    }
   ],
   "source": [
    "num_contents_category_graph(whole_cate_info)"
   ]
  },
  {
   "cell_type": "code",
   "execution_count": 35,
   "metadata": {},
   "outputs": [],
   "source": [
    "def corr_likes_views_graph(cate_info):\n",
    "    view_list = []\n",
    "    like_list = []\n",
    "    for item in cate_info.items():\n",
    "        view_list.append(item[1]['avg_views'])\n",
    "        like_list.append(item[1]['avg_likes'])\n",
    "    view_list = np.array([round(num) for num in view_list])\n",
    "    like_list = np.array([round(num) for num in like_list])\n",
    "    plt.scatter(like_list, view_list)\n",
    "    m,b = np.polyfit(like_list, view_list, 1)\n",
    "    plt.plot(like_list, m*like_list + b)\n",
    "    plt.ylabel(\"avgerage views\")\n",
    "    plt.xlabel(\"average likes\")"
   ]
  },
  {
   "cell_type": "code",
   "execution_count": 36,
   "metadata": {},
   "outputs": [
    {
     "data": {
      "image/png": "[encoded data removed]",
      "text/plain": [
       "<Figure size 432x288 with 1 Axes>"
      ]
     },
     "metadata": {
      "needs_background": "light"
     },
     "output_type": "display_data"
    }
   ],
   "source": [
    "corr_likes_views_graph(us_cate_info)"
   ]
  },
  {
   "cell_type": "code",
   "execution_count": 37,
   "metadata": {},
   "outputs": [
    {
     "data": {
      "image/png": "[encoded data removed]",
      "text/plain": [
       "<Figure size 432x288 with 1 Axes>"
      ]
     },
     "metadata": {
      "needs_background": "light"
     },
     "output_type": "display_data"
    }
   ],
   "source": [
    "corr_likes_views_graph(whole_cate_info)"
   ]
  },
  {
   "cell_type": "code",
   "execution_count": 38,
   "metadata": {},
   "outputs": [],
   "source": [
    "def generate_top_tag_each_category_chart(cate_tag):\n",
    "    category = []\n",
    "    tag = []\n",
    "    tag_count = []\n",
    "    for item in cate_tag.items():\n",
    "        category.append(str(item[0]))\n",
    "        sorted_d = sorted(item[1].items(), key=lambda x:x[1], reverse=True)\n",
    "        tag.append(sorted_d[0][0])\n",
    "        tag_count.append(sorted_d[0][1])\n",
    "    top_tag_each_category = pd.DataFrame(list(zip(tag, tag_count)), index=category, columns=['tag', 'counts'])\n",
    "    return top_tag_each_category"
   ]
  },
  {
   "cell_type": "code",
   "execution_count": 39,
   "metadata": {},
   "outputs": [
    {
     "data": {
      "text/html": [
       "<div>\n",
       "<style scoped>\n",
       "    .dataframe tbody tr th:only-of-type {\n",
       "        vertical-align: middle;\n",
       "    }\n",
       "\n",
       "    .dataframe tbody tr th {\n",
       "        vertical-align: top;\n",
       "    }\n",
       "\n",
       "    .dataframe thead th {\n",
       "        text-align: right;\n",
       "    }\n",
       "</style>\n",
       "<table border=\"1\" class=\"dataframe\">\n",
       "  <thead>\n",
       "    <tr style=\"text-align: right;\">\n",
       "      <th></th>\n",
       "      <th>tag</th>\n",
       "      <th>counts</th>\n",
       "    </tr>\n",
       "  </thead>\n",
       "  <tbody>\n",
       "    <tr>\n",
       "      <th>1</th>\n",
       "      <td>trailer</td>\n",
       "      <td>642</td>\n",
       "    </tr>\n",
       "    <tr>\n",
       "      <th>2</th>\n",
       "      <td>doug demuro</td>\n",
       "      <td>60</td>\n",
       "    </tr>\n",
       "    <tr>\n",
       "      <th>10</th>\n",
       "      <td>pop</td>\n",
       "      <td>1511</td>\n",
       "    </tr>\n",
       "    <tr>\n",
       "      <th>43</th>\n",
       "      <td>bleacher report</td>\n",
       "      <td>41</td>\n",
       "    </tr>\n",
       "    <tr>\n",
       "      <th>15</th>\n",
       "      <td>animals</td>\n",
       "      <td>428</td>\n",
       "    </tr>\n",
       "    <tr>\n",
       "      <th>17</th>\n",
       "      <td>sports</td>\n",
       "      <td>552</td>\n",
       "    </tr>\n",
       "    <tr>\n",
       "      <th>19</th>\n",
       "      <td>travel</td>\n",
       "      <td>100</td>\n",
       "    </tr>\n",
       "    <tr>\n",
       "      <th>20</th>\n",
       "      <td>gameplay</td>\n",
       "      <td>148</td>\n",
       "    </tr>\n",
       "    <tr>\n",
       "      <th>22</th>\n",
       "      <td>buzzfeed</td>\n",
       "      <td>490</td>\n",
       "    </tr>\n",
       "    <tr>\n",
       "      <th>23</th>\n",
       "      <td>funny</td>\n",
       "      <td>1436</td>\n",
       "    </tr>\n",
       "    <tr>\n",
       "      <th>24</th>\n",
       "      <td>comedy</td>\n",
       "      <td>1587</td>\n",
       "    </tr>\n",
       "    <tr>\n",
       "      <th>25</th>\n",
       "      <td>news</td>\n",
       "      <td>577</td>\n",
       "    </tr>\n",
       "    <tr>\n",
       "      <th>26</th>\n",
       "      <td>how to</td>\n",
       "      <td>1009</td>\n",
       "    </tr>\n",
       "    <tr>\n",
       "      <th>27</th>\n",
       "      <td>science</td>\n",
       "      <td>534</td>\n",
       "    </tr>\n",
       "    <tr>\n",
       "      <th>28</th>\n",
       "      <td>science</td>\n",
       "      <td>371</td>\n",
       "    </tr>\n",
       "    <tr>\n",
       "      <th>29</th>\n",
       "      <td>bill</td>\n",
       "      <td>15</td>\n",
       "    </tr>\n",
       "  </tbody>\n",
       "</table>\n",
       "</div>"
      ],
      "text/plain": [
       "                tag  counts\n",
       "1           trailer     642\n",
       "2       doug demuro      60\n",
       "10              pop    1511\n",
       "43  bleacher report      41\n",
       "15          animals     428\n",
       "17           sports     552\n",
       "19           travel     100\n",
       "20         gameplay     148\n",
       "22         buzzfeed     490\n",
       "23            funny    1436\n",
       "24           comedy    1587\n",
       "25             news     577\n",
       "26           how to    1009\n",
       "27          science     534\n",
       "28          science     371\n",
       "29             bill      15"
      ]
     },
     "execution_count": 39,
     "metadata": {},
     "output_type": "execute_result"
    }
   ],
   "source": [
    "generate_top_tag_each_category_chart(us_cate_tag)"
   ]
  },
  {
   "cell_type": "code",
   "execution_count": 40,
   "metadata": {},
   "outputs": [
    {
     "data": {
      "text/html": [
       "<div>\n",
       "<style scoped>\n",
       "    .dataframe tbody tr th:only-of-type {\n",
       "        vertical-align: middle;\n",
       "    }\n",
       "\n",
       "    .dataframe tbody tr th {\n",
       "        vertical-align: top;\n",
       "    }\n",
       "\n",
       "    .dataframe thead th {\n",
       "        text-align: right;\n",
       "    }\n",
       "</style>\n",
       "<table border=\"1\" class=\"dataframe\">\n",
       "  <thead>\n",
       "    <tr style=\"text-align: right;\">\n",
       "      <th></th>\n",
       "      <th>tag</th>\n",
       "      <th>counts</th>\n",
       "    </tr>\n",
       "  </thead>\n",
       "  <tbody>\n",
       "    <tr>\n",
       "      <th>1</th>\n",
       "      <td>trailer</td>\n",
       "      <td>292</td>\n",
       "    </tr>\n",
       "    <tr>\n",
       "      <th>2</th>\n",
       "      <td>doug demuro</td>\n",
       "      <td>123</td>\n",
       "    </tr>\n",
       "    <tr>\n",
       "      <th>10</th>\n",
       "      <td>rap</td>\n",
       "      <td>496</td>\n",
       "    </tr>\n",
       "    <tr>\n",
       "      <th>43</th>\n",
       "      <td>priyamanaval today episode</td>\n",
       "      <td>62</td>\n",
       "    </tr>\n",
       "    <tr>\n",
       "      <th>15</th>\n",
       "      <td>animals</td>\n",
       "      <td>136</td>\n",
       "    </tr>\n",
       "    <tr>\n",
       "      <th>17</th>\n",
       "      <td>nba</td>\n",
       "      <td>772</td>\n",
       "    </tr>\n",
       "    <tr>\n",
       "      <th>19</th>\n",
       "      <td>street food</td>\n",
       "      <td>165</td>\n",
       "    </tr>\n",
       "    <tr>\n",
       "      <th>20</th>\n",
       "      <td>gameplay</td>\n",
       "      <td>287</td>\n",
       "    </tr>\n",
       "    <tr>\n",
       "      <th>22</th>\n",
       "      <td>[none]</td>\n",
       "      <td>811</td>\n",
       "    </tr>\n",
       "    <tr>\n",
       "      <th>23</th>\n",
       "      <td>funny</td>\n",
       "      <td>1253</td>\n",
       "    </tr>\n",
       "    <tr>\n",
       "      <th>24</th>\n",
       "      <td>funny</td>\n",
       "      <td>1340</td>\n",
       "    </tr>\n",
       "    <tr>\n",
       "      <th>25</th>\n",
       "      <td>news</td>\n",
       "      <td>1319</td>\n",
       "    </tr>\n",
       "    <tr>\n",
       "      <th>26</th>\n",
       "      <td>tutorial</td>\n",
       "      <td>424</td>\n",
       "    </tr>\n",
       "    <tr>\n",
       "      <th>27</th>\n",
       "      <td>science</td>\n",
       "      <td>254</td>\n",
       "    </tr>\n",
       "    <tr>\n",
       "      <th>28</th>\n",
       "      <td>technology</td>\n",
       "      <td>189</td>\n",
       "    </tr>\n",
       "    <tr>\n",
       "      <th>29</th>\n",
       "      <td>jesus</td>\n",
       "      <td>38</td>\n",
       "    </tr>\n",
       "    <tr>\n",
       "      <th>30</th>\n",
       "      <td>full movie</td>\n",
       "      <td>6</td>\n",
       "    </tr>\n",
       "  </tbody>\n",
       "</table>\n",
       "</div>"
      ],
      "text/plain": [
       "                           tag  counts\n",
       "1                      trailer     292\n",
       "2                  doug demuro     123\n",
       "10                         rap     496\n",
       "43  priyamanaval today episode      62\n",
       "15                     animals     136\n",
       "17                         nba     772\n",
       "19                 street food     165\n",
       "20                    gameplay     287\n",
       "22                      [none]     811\n",
       "23                       funny    1253\n",
       "24                       funny    1340\n",
       "25                        news    1319\n",
       "26                    tutorial     424\n",
       "27                     science     254\n",
       "28                  technology     189\n",
       "29                       jesus      38\n",
       "30                  full movie       6"
      ]
     },
     "execution_count": 40,
     "metadata": {},
     "output_type": "execute_result"
    }
   ],
   "source": [
    "generate_top_tag_each_category_chart(ca_cate_tag)"
   ]
  },
  {
   "cell_type": "code",
   "execution_count": 41,
   "metadata": {},
   "outputs": [
    {
     "data": {
      "text/html": [
       "<div>\n",
       "<style scoped>\n",
       "    .dataframe tbody tr th:only-of-type {\n",
       "        vertical-align: middle;\n",
       "    }\n",
       "\n",
       "    .dataframe tbody tr th {\n",
       "        vertical-align: top;\n",
       "    }\n",
       "\n",
       "    .dataframe thead th {\n",
       "        text-align: right;\n",
       "    }\n",
       "</style>\n",
       "<table border=\"1\" class=\"dataframe\">\n",
       "  <thead>\n",
       "    <tr style=\"text-align: right;\">\n",
       "      <th></th>\n",
       "      <th>tag</th>\n",
       "      <th>counts</th>\n",
       "    </tr>\n",
       "  </thead>\n",
       "  <tbody>\n",
       "    <tr>\n",
       "      <th>1</th>\n",
       "      <td>trailer</td>\n",
       "      <td>809</td>\n",
       "    </tr>\n",
       "    <tr>\n",
       "      <th>2</th>\n",
       "      <td>crash</td>\n",
       "      <td>47</td>\n",
       "    </tr>\n",
       "    <tr>\n",
       "      <th>10</th>\n",
       "      <td>pop</td>\n",
       "      <td>2117</td>\n",
       "    </tr>\n",
       "    <tr>\n",
       "      <th>43</th>\n",
       "      <td>bleacher report</td>\n",
       "      <td>20</td>\n",
       "    </tr>\n",
       "    <tr>\n",
       "      <th>15</th>\n",
       "      <td>cats</td>\n",
       "      <td>256</td>\n",
       "    </tr>\n",
       "    <tr>\n",
       "      <th>17</th>\n",
       "      <td>sports</td>\n",
       "      <td>502</td>\n",
       "    </tr>\n",
       "    <tr>\n",
       "      <th>19</th>\n",
       "      <td>tokyo</td>\n",
       "      <td>35</td>\n",
       "    </tr>\n",
       "    <tr>\n",
       "      <th>20</th>\n",
       "      <td>ps4</td>\n",
       "      <td>281</td>\n",
       "    </tr>\n",
       "    <tr>\n",
       "      <th>22</th>\n",
       "      <td>[none]</td>\n",
       "      <td>445</td>\n",
       "    </tr>\n",
       "    <tr>\n",
       "      <th>23</th>\n",
       "      <td>funny</td>\n",
       "      <td>862</td>\n",
       "    </tr>\n",
       "    <tr>\n",
       "      <th>24</th>\n",
       "      <td>comedy</td>\n",
       "      <td>1519</td>\n",
       "    </tr>\n",
       "    <tr>\n",
       "      <th>25</th>\n",
       "      <td>news</td>\n",
       "      <td>362</td>\n",
       "    </tr>\n",
       "    <tr>\n",
       "      <th>26</th>\n",
       "      <td>beauty</td>\n",
       "      <td>498</td>\n",
       "    </tr>\n",
       "    <tr>\n",
       "      <th>27</th>\n",
       "      <td>science</td>\n",
       "      <td>99</td>\n",
       "    </tr>\n",
       "    <tr>\n",
       "      <th>28</th>\n",
       "      <td>[none]</td>\n",
       "      <td>93</td>\n",
       "    </tr>\n",
       "    <tr>\n",
       "      <th>29</th>\n",
       "      <td>avengers: infinity war</td>\n",
       "      <td>36</td>\n",
       "    </tr>\n",
       "  </tbody>\n",
       "</table>\n",
       "</div>"
      ],
      "text/plain": [
       "                       tag  counts\n",
       "1                  trailer     809\n",
       "2                    crash      47\n",
       "10                     pop    2117\n",
       "43         bleacher report      20\n",
       "15                    cats     256\n",
       "17                  sports     502\n",
       "19                   tokyo      35\n",
       "20                     ps4     281\n",
       "22                  [none]     445\n",
       "23                   funny     862\n",
       "24                  comedy    1519\n",
       "25                    news     362\n",
       "26                  beauty     498\n",
       "27                 science      99\n",
       "28                  [none]      93\n",
       "29  avengers: infinity war      36"
      ]
     },
     "execution_count": 41,
     "metadata": {},
     "output_type": "execute_result"
    }
   ],
   "source": [
    "generate_top_tag_each_category_chart(gb_cate_tag)"
   ]
  },
  {
   "cell_type": "code",
   "execution_count": 42,
   "metadata": {},
   "outputs": [
    {
     "data": {
      "text/html": [
       "<div>\n",
       "<style scoped>\n",
       "    .dataframe tbody tr th:only-of-type {\n",
       "        vertical-align: middle;\n",
       "    }\n",
       "\n",
       "    .dataframe tbody tr th {\n",
       "        vertical-align: top;\n",
       "    }\n",
       "\n",
       "    .dataframe thead th {\n",
       "        text-align: right;\n",
       "    }\n",
       "</style>\n",
       "<table border=\"1\" class=\"dataframe\">\n",
       "  <thead>\n",
       "    <tr style=\"text-align: right;\">\n",
       "      <th></th>\n",
       "      <th>tag</th>\n",
       "      <th>counts</th>\n",
       "    </tr>\n",
       "  </thead>\n",
       "  <tbody>\n",
       "    <tr>\n",
       "      <th>1</th>\n",
       "      <td>trailer</td>\n",
       "      <td>1147</td>\n",
       "    </tr>\n",
       "    <tr>\n",
       "      <th>2</th>\n",
       "      <td>doug demuro</td>\n",
       "      <td>177</td>\n",
       "    </tr>\n",
       "    <tr>\n",
       "      <th>10</th>\n",
       "      <td>pop</td>\n",
       "      <td>2795</td>\n",
       "    </tr>\n",
       "    <tr>\n",
       "      <th>43</th>\n",
       "      <td>bleacher report</td>\n",
       "      <td>67</td>\n",
       "    </tr>\n",
       "    <tr>\n",
       "      <th>15</th>\n",
       "      <td>animals</td>\n",
       "      <td>570</td>\n",
       "    </tr>\n",
       "    <tr>\n",
       "      <th>17</th>\n",
       "      <td>nba</td>\n",
       "      <td>1490</td>\n",
       "    </tr>\n",
       "    <tr>\n",
       "      <th>19</th>\n",
       "      <td>street food</td>\n",
       "      <td>197</td>\n",
       "    </tr>\n",
       "    <tr>\n",
       "      <th>20</th>\n",
       "      <td>gameplay</td>\n",
       "      <td>570</td>\n",
       "    </tr>\n",
       "    <tr>\n",
       "      <th>22</th>\n",
       "      <td>[none]</td>\n",
       "      <td>1472</td>\n",
       "    </tr>\n",
       "    <tr>\n",
       "      <th>23</th>\n",
       "      <td>funny</td>\n",
       "      <td>2785</td>\n",
       "    </tr>\n",
       "    <tr>\n",
       "      <th>24</th>\n",
       "      <td>funny</td>\n",
       "      <td>3324</td>\n",
       "    </tr>\n",
       "    <tr>\n",
       "      <th>25</th>\n",
       "      <td>news</td>\n",
       "      <td>2103</td>\n",
       "    </tr>\n",
       "    <tr>\n",
       "      <th>26</th>\n",
       "      <td>how to</td>\n",
       "      <td>1423</td>\n",
       "    </tr>\n",
       "    <tr>\n",
       "      <th>27</th>\n",
       "      <td>science</td>\n",
       "      <td>762</td>\n",
       "    </tr>\n",
       "    <tr>\n",
       "      <th>28</th>\n",
       "      <td>science</td>\n",
       "      <td>509</td>\n",
       "    </tr>\n",
       "    <tr>\n",
       "      <th>29</th>\n",
       "      <td>black panther</td>\n",
       "      <td>38</td>\n",
       "    </tr>\n",
       "    <tr>\n",
       "      <th>30</th>\n",
       "      <td>full movie</td>\n",
       "      <td>6</td>\n",
       "    </tr>\n",
       "  </tbody>\n",
       "</table>\n",
       "</div>"
      ],
      "text/plain": [
       "                tag  counts\n",
       "1           trailer    1147\n",
       "2       doug demuro     177\n",
       "10              pop    2795\n",
       "43  bleacher report      67\n",
       "15          animals     570\n",
       "17              nba    1490\n",
       "19      street food     197\n",
       "20         gameplay     570\n",
       "22           [none]    1472\n",
       "23            funny    2785\n",
       "24            funny    3324\n",
       "25             news    2103\n",
       "26           how to    1423\n",
       "27          science     762\n",
       "28          science     509\n",
       "29    black panther      38\n",
       "30       full movie       6"
      ]
     },
     "execution_count": 42,
     "metadata": {},
     "output_type": "execute_result"
    }
   ],
   "source": [
    "generate_top_tag_each_category_chart(whole_cate_tag)"
   ]
  },
  {
   "cell_type": "code",
   "execution_count": 8,
   "metadata": {},
   "outputs": [],
   "source": [
    "from sklearn.feature_extraction.text import CountVectorizer\n",
    "from sklearn.naive_bayes import MultinomialNB\n",
    "from sklearn.model_selection import train_test_split"
   ]
  },
  {
   "cell_type": "code",
   "execution_count": 9,
   "metadata": {},
   "outputs": [],
   "source": [
    "def predict_data(df):\n",
    "    df['text'] = df[['title','channel_title', 'tags','description']].astype(str).agg(' '.join, axis=1)\n",
    "    Y = df['category_id']\n",
    "    count_vect = CountVectorizer()\n",
    "    X = count_vect.fit_transform(df['text'])\n",
    "    X_train, X_test, y_train, y_test = train_test_split(X, Y, test_size=0.30)\n",
    "    text_clf = MultinomialNB().fit(X_train, y_train)\n",
    "    predicted = np.array(text_clf.predict(X_test))\n",
    "    y_test = np.array(y_test)\n",
    "    print(predicted)\n",
    "    print(y_test)\n",
    "    return np.mean(predicted == y_test)\n",
    "    "
   ]
  },
  {
   "cell_type": "code",
   "execution_count": 12,
   "metadata": {},
   "outputs": [],
   "source": [
    "def predict_data2(train_df, test_df):\n",
    "    train_df['text'] = train_df[['title','channel_title', 'tags', 'description']].astype(str).agg(''.join, axis=1)\n",
    "    Y = train_df['category_id']\n",
    "    count_vect = CountVectorizer()\n",
    "    X = count_vect.fit_transform(train_df['text'])\n",
    "    X_train, X_dummy_test, y_train, y_dummy_test = train_test_split(X, Y, test_size=0.20)\n",
    "    \n",
    "#     count_vect = CountVectorizer()\n",
    "#     X_train = count_vect.fit_transform(train_df['text'])\n",
    "#     tfidf_transformer = TfidfTransformer()\n",
    "#     X_train = tfidf_transformer.fit_transform(X_train)\n",
    "    X_train = X_train.todense()\n",
    "    text_clf = MultinomialNB().fit(X_train, y_train)\n",
    "    print(\"done training\")\n",
    "    test_df['text'] = test_df[['title','channel_title', 'tags', 'description']].astype(str).agg(''.join, axis=1)\n",
    "    y_test = test_df['category_id']\n",
    "\n",
    "    X_test = count_vect.transform(test_df['text'])\n",
    "#     print(len(X_train))\n",
    "#     print()\n",
    "#     print(len(X_test))\n",
    "#     X_test = tfidf_transformer.transform(X_test)\n",
    "    X_test = X_test.todense()\n",
    "    predicted = np.array(text_clf.predict(X_test))\n",
    "    y_test = np.array(y_test)\n",
    "    print(predicted)\n",
    "    print(y_test)\n",
    "    return np.mean(predicted == y_test)"
   ]
  },
  {
   "cell_type": "code",
   "execution_count": 18,
   "metadata": {},
   "outputs": [
    {
     "name": "stdout",
     "output_type": "stream",
     "text": [
      "[10 23 23 ... 19 24 22]\n",
      "[10 23 23 ... 19 24 22]\n"
     ]
    },
    {
     "data": {
      "text/plain": [
       "0.9447293447293448"
      ]
     },
     "execution_count": 18,
     "metadata": {},
     "output_type": "execute_result"
    }
   ],
   "source": [
    "predict_data(us_data)"
   ]
  },
  {
   "cell_type": "code",
   "execution_count": 13,
   "metadata": {},
   "outputs": [
    {
     "name": "stdout",
     "output_type": "stream",
     "text": [
      "done training\n"
     ]
    },
    {
     "name": "stderr",
     "output_type": "stream",
     "text": [
      "/opt/anaconda3/lib/python3.7/site-packages/ipykernel_launcher.py:15: SettingWithCopyWarning: \n",
      "A value is trying to be set on a copy of a slice from a DataFrame.\n",
      "Try using .loc[row_indexer,col_indexer] = value instead\n",
      "\n",
      "See the caveats in the documentation: https://pandas.pydata.org/pandas-docs/stable/user_guide/indexing.html#returning-a-view-versus-a-copy\n",
      "  from ipykernel import kernelapp as app\n"
     ]
    },
    {
     "name": "stdout",
     "output_type": "stream",
     "text": [
      "[26 24 10 25 25 24 10 26 10 10 17 25 10 26 26 24 10 10 23 24 26 24 10 10\n",
      " 24 28 17 26 23 24 22 10 10 24 24 10 26 24 10 10 23 15 22 10 26 27 26 24\n",
      " 10 26 24 10 22 10  1 26 24 26 26  1 24 25 10 22 10 24 26  1 28 17 10 20\n",
      " 26 26 28 22 15 26 24 10 28 23 17 24 10 10 10 24 24 10 26 22 17 28 24 24\n",
      " 24 10 10 28 26 10 10 10 24 24 26 26 20 10 24 24 25 25 24 10 10 24 10 10\n",
      " 10 26 27 26  1 24 17 10  1 25 26 26 17 23 24 26  1 22 24 24 20  2 23 28\n",
      " 10 20 22 10 24 23 24 27 23 26 28 10 10 23 10 23 22 28 24 20 26 10 28 10\n",
      " 24 10 24 10 26 15 10  1 10 10 10 10 22 10 22 26 23 24 28  1 22  1 20 10\n",
      " 24 10 10 22  1 10 24 24 28 23 26 23 17 17 24 26 24 10 10 26 25 26 24 22\n",
      " 24 26 24 10 22  1 26 24 10 24 10 10 10 17 10 25 26 24 10 10 26 26 10 24\n",
      " 23 10 24 24 10 26 24 24 26 28 10 23 10 10 24 25 17 22 24 15 23 10 22 10\n",
      " 24 27 10 26 10 26 26  1 23 24  1 26 10 22  1 26 25 10 24 26 22 10 17 20\n",
      " 24 28 26 10 26 24 28 26 22 10 15 26 23 28 24 10 10 17 24 24 24 22 10 24\n",
      " 28 10 10 10 10 10 28 10 10 24 24 26 26 10 20 24 24 25 25 24 10 10 24 10\n",
      " 10 10 27  1 10 17  1 25 26 17 23 26 24  1 24 20  2 23 28 20 10 10 22 23\n",
      " 24 24 10 26 28 27 23 10 23 22 28 24 20 24 26 10 10 28 10 15 10 10 10 10\n",
      "  1 10 26 24 22 10 22 23 26 28  1 22  1 20 10 24 24 28 10 23 24 26 23 23\n",
      " 17 24 17 10 25 24 10 26 24 26 15 10 10 25 24 26 24 24 20 10 22 24 22 26\n",
      " 17 26 24  1 10 23 24 25 10 17 10 10 25 10 24 10 26 10 10 26 24 23 10 24\n",
      " 10 24 26 10 10 28 10 23 10 24 25 26 17 24 22 10 15 24 10 23 26 10 22 24\n",
      " 10 26 26 26 24 23  1 26 27 22 22 24 10 26 10  1 26  1 25 24 28 26 10 17\n",
      " 20 26 28 26 28 22 26 10 10 15 24 10 17 23 24 24 24 22 28 10 10 10 10 10\n",
      " 28 24 10 24 24 26 26 10 20 24 24 25 10 25 24 10 24 10 10 10 27 10  1 17\n",
      "  1 25 26 17 26 24  1 24 20  2 23 28 20 10 10 22 23 24 24 26 10 27 23 28\n",
      " 10 23 22 28 24 20 10 24 10 26 10 28 24 10 10 10 10 10  1 26 24 22 24 26\n",
      " 24  1 25 24 23 24 10 24 26 24 23 26 23 22 24 10 24 28 28 26  1 10 26 28\n",
      " 20 10 17 23 20 28 17 28 10 17 23 17 27 15 17 24 25 27 10 22 10 26 10 24\n",
      " 17 26 17 25 23 10 10 20 10 28 24 24 10 26 10 20 10 24 10 17 26 24 24 22\n",
      " 24 26 22 17 24  1 10 10 24 25 23 10 17 10 10 10 10 24 25 26 24 10 26 24\n",
      " 10 24 10 23 10 24 23 24 10 28 26 10 10 22 24 23 24 15 26 22 27 10 24 24\n",
      " 10 26  1 26 25 26 10 24 22 24 26  1 26 26  1 22 23 25 10 24 10 26 26 10\n",
      " 20 17 28 26 28 22 26 24 10 15 10 17 10 23 24 10 22 24 28 10 24 10 28 24\n",
      " 10 10 10 24 24 26 10 26 20 24 24 25 10 25 24 29 24 10 24 10 10 27 10  1\n",
      " 17  1 10 25 17 26 28 24]\n",
      "[26 24 10 17 25 24 10 22 10 10 17 25 10 26 26 24 10 10 23 24 26 24 10 10\n",
      " 10 28 17 22 23 24 24 10 10 24 25 10 22 24 10 10 22 15 24 10 22 27 26 10\n",
      " 10 26 24 10 22 10  1 22 24 26 26  1 26 24 24 22 24 28 26 24 24 17 10 20\n",
      " 26 17 10 24 24 22 20 10  2 23 17 17 10 24 10 23 24 10 26 25 17 24 24 24\n",
      " 24 24 10 28 26 10 10 10 10 24 23 22 20 10 24 22 25 25 24 10 10 24 10 10\n",
      " 10 26 22 26 24 24 17 10 25 22 22 24 24 23 17 26 20 22 24 23 20  2 23 28\n",
      " 22 20 17 10 24 23 22 27 23 26 17 17 10 23 10 23 22 24 23 20 24 10 24 10\n",
      " 24 10 17 10 26 24 10  1 10 10 10 10 22 24 22 26 23 24  2 24 22  1 20 10\n",
      " 10 10 10 22  1 10 24 24 28 23 22 23 17 17 24 26 24 10 10 26 17 26 23 22\n",
      " 24 26 24 10 22 22 26 24 10 10 10 10 10 17 10 25 26 23 10 10 26 26 10 24\n",
      " 23 10 24 24 10 22 20 24 22 28 10 23 10 10 25 26 17 24 24 15 22 10 24 10\n",
      " 10 27 10 22 10 26 26  1 17 24  1 26 10 22 24 22 24 24 28 26 22 24 17 20\n",
      " 26 24 26 10 26 20 10 22 24 10 24 17 23  2 24 10 10 17 17 24 23 25 10 24\n",
      " 24 24 10 10 24 10 28 24 10 24 10 23 22 10 20 24 22 25 25 24 10 10 24 10\n",
      " 10 10 22 24 10 17 25 22 24 24 23 26 17 20 24 20  2 23 28 20 22 10 17 23\n",
      " 24 22 10 26 17 27 23 17 23 22 24 24 20 17 24 10 10 24 10 24 10 10 10 10\n",
      "  1 10 26 24 22 24 22 23 26  2 24 22  1 20 10 24 24 28 10 23 24 22 23 23\n",
      " 17 24 17 10 25 24 10 26 24 26 24 10 10 17 23 26 24 24 20 10 22 24 22 26\n",
      " 17 26 10 22 10 24 22 22 10 17 10 10 25 10 23 10 26 10 10 26 24 23 10 20\n",
      " 10 24 26 10 10 28 10 23 10 25 26 22 17 24 24 10 15 24 10 22 22 10 24 10\n",
      " 10 26 26 22 24 17 24 26 27 22 22 26 10 22 24  1 26  1 24 28 10 26 10 17\n",
      " 20 26 24 22  2 24 17 10 10 24 20 10 17 23 17 24 23 25 24 10 24 24 10 24\n",
      " 28 24 10 10 24 22 23 10 20 24 22 25 10 25 24 10 24 10 10 10 22 10 24 17\n",
      " 25 22 24 24 26 17 20 24 20  2 23 28 20 22 10 17 23 24 22 26 10 27 23 17\n",
      " 17 23 22 24 24 20 10 17 10 24 10 24 24 10 10 10 10 10  1 26 24 22 24 26\n",
      " 24 24 25 24 23 24 10 24 26 24 23 26 23 22 24 10 24 28 28 26  1 10 22 28\n",
      " 20 10 17 23 20 28 24 28 10 17 23 17 27 24 17 24 25 27 10 22 24 24 10 24\n",
      " 17 26 17 17 23 10 10 20 10 28 27 23 10 26 10 20 10 24 10 17 26 10 20 22\n",
      " 24 26 22 17 24 22 10 10 22 22 24 10 17 10 10 10 10 23 25 26 24 10 26 24\n",
      " 10 10 10 23 10 20 23 25 10 28 22 10 10 24 24 22 24 15 22 24 27 10 24 10\n",
      " 10 22 24 26 26 26 10 24 22 26 26  1 22 26  1 22 17 24 24 28 24 26 26 10\n",
      " 20 17 24 22 10 24 17 20 10 24 10 17 10 23 17 10 25 23 24 24 24 24 28 24\n",
      " 10 10 10 10 24 22 10 23 20 24 22 25 10 25 24 10 24 10 24 10 10 22 10 24\n",
      " 17 25 10 22 24 24 28 24]\n"
     ]
    },
    {
     "data": {
      "text/plain": [
       "0.69125"
      ]
     },
     "execution_count": 13,
     "metadata": {},
     "output_type": "execute_result"
    }
   ],
   "source": [
    "predict_data2(us_data, gb_data.iloc[0:800])"
   ]
  },
  {
   "cell_type": "code",
   "execution_count": 5,
   "metadata": {},
   "outputs": [],
   "source": [
    "def predict_tags_category(title, description, channel_title):\n",
    "    us_data['text'] = us_data[['title','channel_title', 'tags', 'description']].astype(str).agg(''.join, axis=1)\n",
    "    Y = us_data['category_id']\n",
    "\n",
    "    count_vect = CountVectorizer()\n",
    "    X = count_vect.fit_transform(us_data['text'])\n",
    "    X_train, X_dummy_test, y_train, y_dummy_test = train_test_split(X, Y, test_size=0.40)\n",
    "    tfidf_transformer = TfidfTransformer()\n",
    "    X_train = tfidf_transformer.fit_transform(X_train)\n",
    "    X_train = X_train.todense()\n",
    "    text_clf = MultinomialNB().fit(X_train, y_train)\n",
    "    print(\"done training\")\n",
    "    \n",
    "    text = title + description + channel_title\n",
    "    text = pd.Series(text)\n",
    "    X_test = count_vect.transform(text)\n",
    "#     print(len(X_train))\n",
    "#     print()\n",
    "#     print(len(X_test))\n",
    "    X_test = tfidf_transformer.transform(X_test)\n",
    "    X_test = X_test.todense()\n",
    "    predicted = np.array(text_clf.predict(X_test))\n",
    "    return predicted"
   ]
  },
  {
   "cell_type": "code",
   "execution_count": 16,
   "metadata": {},
   "outputs": [
    {
     "name": "stdout",
     "output_type": "stream",
     "text": [
      "done training\n"
     ]
    },
    {
     "data": {
      "text/plain": [
       "array([10])"
      ]
     },
     "execution_count": 16,
     "metadata": {},
     "output_type": "execute_result"
    }
   ],
   "source": [
    "predict_tags_category(\"BTS (방탄소년단) 'Black Swan' Official MV\", \"Big Hit Entertainment. Rights are reserved selectively in the video. Unauthorized reproduction is a violation of applicable laws. Manufactured by Big Hit Entertainment, Seoul, Korea.\", \"Big Hit Labels\")"
   ]
  },
  {
   "cell_type": "code",
   "execution_count": 12,
   "metadata": {},
   "outputs": [
    {
     "data": {
      "text/plain": [
       "pandas.core.series.Series"
      ]
     },
     "execution_count": 12,
     "metadata": {},
     "output_type": "execute_result"
    }
   ],
   "source": [
    "type(us_data['category_id'])"
   ]
  },
  {
   "cell_type": "code",
   "execution_count": 48,
   "metadata": {},
   "outputs": [
    {
     "name": "stderr",
     "output_type": "stream",
     "text": [
      "[nltk_data] Downloading package vader_lexicon to\n",
      "[nltk_data]     /Users/yejeelee/nltk_data...\n"
     ]
    }
   ],
   "source": [
    "import nltk\n",
    "nltk.download('vader_lexicon')\n",
    "from nltk.sentiment.vader import SentimentIntensityAnalyzer as SIA\n"
   ]
  },
  {
   "cell_type": "code",
   "execution_count": 53,
   "metadata": {},
   "outputs": [
    {
     "name": "stdout",
     "output_type": "stream",
     "text": [
      "racist superman|\"rudy\"|\"mancuso\"|\"king\"|\"bach\"|\"racist\"|\"superman\"|\"love\"|\"rudy mancuso poo bear black white official music video\"|\"iphone x by pineapple\"|\"lelepons\"|\"hannahstocking\"|\"rudymancuso\"|\"inanna\"|\"anwar\"|\"sarkis\"|\"shots\"|\"shotsstudios\"|\"alesso\"|\"anitta\"|\"brazil\"|\"Getting My Driver's License | Lele Pons\"WATCH MY PREVIOUS VIDEO ▶ \\n\\nSUBSCRIBE ► https://www.youtube.com/channel/UC5jkXpfnBhlDjqh0ir5FsIQ?sub_confirmation=1\\n\\nTHANKS FOR WATCHING! LIKE & SUBSCRIBE FOR MORE VIDEOS!\\n-----------------------------------------------------------\\nFIND ME ON: \\nInstagram | http://instagram.com/rudymancuso\\nTwitter | http://twitter.com/rudymancuso\\nFacebook | http://facebook.com/rudymancuso\\n\\nCAST: \\nRudy Mancuso | http://youtube.com/c/rudymancuso\\nLele Pons | http://youtube.com/c/lelepons\\nKing Bach | https://youtube.com/user/BachelorsPadTv\\n\\nVideo Effects: \\nCaleb Natale | https://instagram.com/calebnatale\\n\\nPA:\\nPaulina Gregory\\n\\n\\nShots Studios Channels:\\nAlesso | https://youtube.com/c/alesso\\nAnitta | http://youtube.com/c/anitta\\nAnwar Jibawi | http://youtube.com/c/anwar\\nAwkward Puppets | http://youtube.com/c/awkwardpuppets\\nHannah Stocking | http://youtube.com/c/hannahstocking\\nInanna Sarkis | http://youtube.com/c/inanna\\nLele Pons | http://youtube.com/c/lelepons\\nMaejor | http://youtube.com/c/maejor\\nMike Tyson | http://youtube.com/c/miketyson \\nRudy Mancuso | http://youtube.com/c/rudymancuso\\nShots Studios | http://youtube.com/c/shots\\n\\n#Rudy\\n#RudyMancusoRacist Superman | Rudy Mancuso, King Bach & Lele Pons, racist superman|\"rudy\"|\"mancuso\"|\"king\"|\"bach\"|\"racist\"|\"superman\"|\"love\"|\"rudy mancuso poo bear black white official music video\"|\"iphone x by pineapple\"|\"lelepons\"|\"hannahstocking\"|\"rudymancuso\"|\"inanna\"|\"anwar\"|\"sarkis\"|\"shots\"|\"shotsstudios\"|\"alesso\"|\"anitta\"|\"brazil\"|\"Getting My Driver's License | Lele Pons\"WATCH MY PREVIOUS VIDEO ▶ \\n\\nSUBSCRIBE ► https://www.youtube.com/channel/UC5jkXpfnBhlDjqh0ir5FsIQ?sub_confirmation=1\\n\\nTHANKS FOR WATCHING! LIKE & SUBSCRIBE FOR MORE VIDEOS!\\n-----------------------------------------------------------\\nFIND ME ON: \\nInstagram | http://instagram.com/rudymancuso\\nTwitter | http://twitter.com/rudymancuso\\nFacebook | http://facebook.com/rudymancuso\\n\\nCAST: \\nRudy Mancuso | http://youtube.com/c/rudymancuso\\nLele Pons | http://youtube.com/c/lelepons\\nKing Bach | https://youtube.com/user/BachelorsPadTv\\n\\nVideo Effects: \\nCaleb Natale | https://instagram.com/calebnatale\\n\\nPA:\\nPaulina Gregory\\n\\n\\nShots Studios Channels:\\nAlesso | https://youtube.com/c/alesso\\nAnitta | http://youtube.com/c/anitta\\nAnwar Jibawi | http://youtube.com/c/anwar\\nAwkward Puppets | http://youtube.com/c/awkwardpuppets\\nHannah Stocking | http://youtube.com/c/hannahstocking\\nInanna Sarkis | http://youtube.com/c/inanna\\nLele Pons | http://youtube.com/c/lelepons\\nMaejor | http://youtube.com/c/maejor\\nMike Tyson | http://youtube.com/c/miketyson \\nRudy Mancuso | http://youtube.com/c/rudymancuso\\nShots Studios | http://youtube.com/c/shots\\n\\n#Rudy\\n#RudyMancusoRacist Superman | Rudy Mancuso, King Bach & Lele Pons, racist superman|\"rudy\"|\"mancuso\"|\"king\"|\"bach\"|\"racist\"|\"superman\"|\"love\"|\"rudy mancuso poo bear black white official music video\"|\"iphone x by pineapple\"|\"lelepons\"|\"hannahstocking\"|\"rudymancuso\"|\"inanna\"|\"anwar\"|\"sarkis\"|\"shots\"|\"shotsstudios\"|\"alesso\"|\"anitta\"|\"brazil\"|\"Getting My Driver's License | Lele Pons\"WATCH MY PREVIOUS VIDEO ▶ \\n\\nSUBSCRIBE ► https://www.youtube.com/channel/UC5jkXpfnBhlDjqh0ir5FsIQ?sub_confirmation=1\\n\\nTHANKS FOR WATCHING! LIKE & SUBSCRIBE FOR MORE VIDEOS!\\n-----------------------------------------------------------\\nFIND ME ON: \\nInstagram | http://instagram.com/rudymancuso\\nTwitter | http://twitter.com/rudymancuso\\nFacebook | http://facebook.com/rudymancuso\\n\\nCAST: \\nRudy Mancuso | http://youtube.com/c/rudymancuso\\nLele Pons | http://youtube.com/c/lelepons\\nKing Bach | https://youtube.com/user/BachelorsPadTv\\n\\nVideo Effects: \\nCaleb Natale | https://instagram.com/calebnatale\\n\\nPA:\\nPaulina Gregory\\n\\n\\nShots Studios Channels:\\nAlesso | https://youtube.com/c/alesso\\nAnitta | http://youtube.com/c/anitta\\nAnwar Jibawi | http://youtube.com/c/anwar\\nAwkward Puppets | http://youtube.com/c/awkwardpuppets\\nHannah Stocking | http://youtube.com/c/hannahstocking\\nInanna Sarkis | http://youtube.com/c/inanna\\nLele Pons | http://youtube.com/c/lelepons\\nMaejor | http://youtube.com/c/maejor\\nMike Tyson | http://youtube.com/c/miketyson \\nRudy Mancuso | http://youtube.com/c/rudymancuso\\nShots Studios | http://youtube.com/c/shots\\n\\n#Rudy\\n#RudyMancusoRacist Superman | Rudy Mancuso, King Bach & Lele Pons, racist superman|\"rudy\"|\"mancuso\"|\"king\"|\"bach\"|\"racist\"|\"superman\"|\"love\"|\"rudy mancuso poo bear black white official music video\"|\"iphone x by pineapple\"|\"lelepons\"|\"hannahstocking\"|\"rudymancuso\"|\"inanna\"|\"anwar\"|\"sarkis\"|\"shots\"|\"shotsstudios\"|\"alesso\"|\"anitta\"|\"brazil\"|\"Getting My Driver's License | Lele Pons\"WATCH MY PREVIOUS VIDEO ▶ \\n\\nSUBSCRIBE ► https://www.youtube.com/channel/UC5jkXpfnBhlDjqh0ir5FsIQ?sub_confirmation=1\\n\\nTHANKS FOR WATCHING! LIKE & SUBSCRIBE FOR MORE VIDEOS!\\n-----------------------------------------------------------\\nFIND ME ON: \\nInstagram | http://instagram.com/rudymancuso\\nTwitter | http://twitter.com/rudymancuso\\nFacebook | http://facebook.com/rudymancuso\\n\\nCAST: \\nRudy Mancuso | http://youtube.com/c/rudymancuso\\nLele Pons | http://youtube.com/c/lelepons\\nKing Bach | https://youtube.com/user/BachelorsPadTv\\n\\nVideo Effects: \\nCaleb Natale | https://instagram.com/calebnatale\\n\\nPA:\\nPaulina Gregory\\n\\n\\nShots Studios Channels:\\nAlesso | https://youtube.com/c/alesso\\nAnitta | http://youtube.com/c/anitta\\nAnwar Jibawi | http://youtube.com/c/anwar\\nAwkward Puppets | http://youtube.com/c/awkwardpuppets\\nHannah Stocking | http://youtube.com/c/hannahstocking\\nInanna Sarkis | http://youtube.com/c/inanna\\nLele Pons | http://youtube.com/c/lelepons\\nMaejor | http://youtube.com/c/maejor\\nMike Tyson | http://youtube.com/c/miketyson \\nRudy Mancuso | http://youtube.com/c/rudymancuso\\nShots Studios | http://youtube.com/c/shots\\n\\n#Rudy\\n#RudyMancusoRacist Superman | Rudy Mancuso, King Bach & Lele Pons, racist superman|\"rudy\"|\"mancuso\"|\"king\"|\"bach\"|\"racist\"|\"superman\"|\"love\"|\"rudy mancuso poo bear black white official music video\"|\"iphone x by pineapple\"|\"lelepons\"|\"hannahstocking\"|\"rudymancuso\"|\"inanna\"|\"anwar\"|\"sarkis\"|\"shots\"|\"shotsstudios\"|\"alesso\"|\"anitta\"|\"brazil\"|\"Getting My Driver's License | Lele Pons\"WATCH MY PREVIOUS VIDEO ▶ \\n\\nSUBSCRIBE ► https://www.youtube.com/channel/UC5jkXpfnBhlDjqh0ir5FsIQ?sub_confirmation=1\\n\\nTHANKS FOR WATCHING! LIKE & SUBSCRIBE FOR MORE VIDEOS!\\n-----------------------------------------------------------\\nFIND ME ON: \\nInstagram | http://instagram.com/rudymancuso\\nTwitter | http://twitter.com/rudymancuso\\nFacebook | http://facebook.com/rudymancuso\\n\\nCAST: \\nRudy Mancuso | http://youtube.com/c/rudymancuso\\nLele Pons | http://youtube.com/c/lelepons\\nKing Bach | https://youtube.com/user/BachelorsPadTv\\n\\nVideo Effects: \\nCaleb Natale | https://instagram.com/calebnatale\\n\\nPA:\\nPaulina Gregory\\n\\n\\nShots Studios Channels:\\nAlesso | https://youtube.com/c/alesso\\nAnitta | http://youtube.com/c/anitta\\nAnwar Jibawi | http://youtube.com/c/anwar\\nAwkward Puppets | http://youtube.com/c/awkwardpuppets\\nHannah Stocking | http://youtube.com/c/hannahstocking\\nInanna Sarkis | http://youtube.com/c/inanna\\nLele Pons | http://youtube.com/c/lelepons\\nMaejor | http://youtube.com/c/maejor\\nMike Tyson | http://youtube.com/c/miketyson \\nRudy Mancuso | http://youtube.com/c/rudymancuso\\nShots Studios | http://youtube.com/c/shots\\n\\n#Rudy\\n#RudyMancusoRacist Superman | Rudy Mancuso, King Bach & Lele Pons, racist superman|\"rudy\"|\"mancuso\"|\"king\"|\"bach\"|\"racist\"|\"superman\"|\"love\"|\"rudy mancuso poo bear black white official music video\"|\"iphone x by pineapple\"|\"lelepons\"|\"hannahstocking\"|\"rudymancuso\"|\"inanna\"|\"anwar\"|\"sarkis\"|\"shots\"|\"shotsstudios\"|\"alesso\"|\"anitta\"|\"brazil\"|\"Getting My Driver's License | Lele Pons\"WATCH MY PREVIOUS VIDEO ▶ \\n\\nSUBSCRIBE ► https://www.youtube.com/channel/UC5jkXpfnBhlDjqh0ir5FsIQ?sub_confirmation=1\\n\\nTHANKS FOR WATCHING! LIKE & SUBSCRIBE FOR MORE VIDEOS!\\n-----------------------------------------------------------\\nFIND ME ON: \\nInstagram | http://instagram.com/rudymancuso\\nTwitter | http://twitter.com/rudymancuso\\nFacebook | http://facebook.com/rudymancuso\\n\\nCAST: \\nRudy Mancuso | http://youtube.com/c/rudymancuso\\nLele Pons | http://youtube.com/c/lelepons\\nKing Bach | https://youtube.com/user/BachelorsPadTv\\n\\nVideo Effects: \\nCaleb Natale | https://instagram.com/calebnatale\\n\\nPA:\\nPaulina Gregory\\n\\n\\nShots Studios Channels:\\nAlesso | https://youtube.com/c/alesso\\nAnitta | http://youtube.com/c/anitta\\nAnwar Jibawi | http://youtube.com/c/anwar\\nAwkward Puppets | http://youtube.com/c/awkwardpuppets\\nHannah Stocking | http://youtube.com/c/hannahstocking\\nInanna Sarkis | http://youtube.com/c/inanna\\nLele Pons | http://youtube.com/c/lelepons\\nMaejor | http://youtube.com/c/maejor\\nMike Tyson | http://youtube.com/c/miketyson \\nRudy Mancuso | http://youtube.com/c/rudymancuso\\nShots Studios | http://youtube.com/c/shots\\n\\n#Rudy\\n#RudyMancusoRacist Superman | Rudy Mancuso, King Bach & Lele Pons, racist superman|\"rudy\"|\"mancuso\"|\"king\"|\"bach\"|\"racist\"|\"superman\"|\"love\"|\"rudy mancuso poo bear black white official music video\"|\"iphone x by pineapple\"|\"lelepons\"|\"hannahstocking\"|\"rudymancuso\"|\"inanna\"|\"anwar\"|\"sarkis\"|\"shots\"|\"shotsstudios\"|\"alesso\"|\"anitta\"|\"brazil\"|\"Getting My Driver's License | Lele Pons\"WATCH MY PREVIOUS VIDEO ▶ \\n\\nSUBSCRIBE ► https://www.youtube.com/channel/UC5jkXpfnBhlDjqh0ir5FsIQ?sub_confirmation=1\\n\\nTHANKS FOR WATCHING! LIKE & SUBSCRIBE FOR MORE VIDEOS!\\n-----------------------------------------------------------\\nFIND ME ON: \\nInstagram | http://instagram.com/rudymancuso\\nTwitter | http://twitter.com/rudymancuso\\nFacebook | http://facebook.com/rudymancuso\\n\\nCAST: \\nRudy Mancuso | http://youtube.com/c/rudymancuso\\nLele Pons | http://youtube.com/c/lelepons\\nKing Bach | https://youtube.com/user/BachelorsPadTv\\n\\nVideo Effects: \\nCaleb Natale | https://instagram.com/calebnatale\\n\\nPA:\\nPaulina Gregory\\n\\n\\nShots Studios Channels:\\nAlesso | https://youtube.com/c/alesso\\nAnitta | http://youtube.com/c/anitta\\nAnwar Jibawi | http://youtube.com/c/anwar\\nAwkward Puppets | http://youtube.com/c/awkwardpuppets\\nHannah Stocking | http://youtube.com/c/hannahstocking\\nInanna Sarkis | http://youtube.com/c/inanna\\nLele Pons | http://youtube.com/c/lelepons\\nMaejor | http://youtube.com/c/maejor\\nMike Tyson | http://youtube.com/c/miketyson \\nRudy Mancuso | http://youtube.com/c/rudymancuso\\nShots Studios | http://youtube.com/c/shots\\n\\n#Rudy\\n#RudyMancusoRacist Superman | Rudy Mancuso, King Bach & Lele Pons\n",
      "{'neg': 0.053, 'neu': 0.908, 'pos': 0.04, 'compound': -0.8884, 'result': 'Negative'}\n"
     ]
    }
   ],
   "source": [
    "data = us_data.loc[us_data['video_id'] == \"5qpjK5DgCt4\"]\n",
    "text = data[\"tags\"] + data[\"description\"] + data[\"title\"]\n",
    "text = text.str.cat(sep=', ')\n",
    "# vectorizer = CountVectorizer()\n",
    "# X = vectorizer.fit_transform(text)\n",
    "# vectorizer.get\n",
    "sentiment = SIA()\n",
    "sentiment_dict = sentiment.polarity_scores(text)\n",
    "if sentiment_dict['compound'] >= 0.05 : \n",
    "        sentiment_dict['result'] = 'Positive'   \n",
    "elif sentiment_dict['compound'] <= - 0.05 : \n",
    "    sentiment_dict['result'] = 'Negative' \n",
    "else : \n",
    "    sentiment_dict['result'] = 'Neutral' \n",
    "print(text)\n",
    "print(sentiment_dict)"
   ]
  },
  {
   "cell_type": "code",
   "execution_count": 32,
   "metadata": {},
   "outputs": [
    {
     "data": {
      "text/plain": [
       "0"
      ]
     },
     "execution_count": 32,
     "metadata": {},
     "output_type": "execute_result"
    }
   ],
   "source": [
    "len(us_data.loc[us_data['video_id'] == \"9KI\"])"
   ]
  },
  {
   "cell_type": "code",
   "execution_count": 56,
   "metadata": {},
   "outputs": [
    {
     "data": {
      "text/plain": [
       "0"
      ]
     },
     "execution_count": 56,
     "metadata": {},
     "output_type": "execute_result"
    }
   ],
   "source": [
    "len(us_data['tags'][us_data['category_id'] == 77])"
   ]
  },
  {
   "cell_type": "code",
   "execution_count": 65,
   "metadata": {},
   "outputs": [
    {
     "data": {
      "text/plain": [
       "2"
      ]
     },
     "execution_count": 65,
     "metadata": {},
     "output_type": "execute_result"
    }
   ],
   "source": [
    "len(us_data[us_data['channel_title'] == \"12 News\"])"
   ]
  },
  {
   "cell_type": "code",
   "execution_count": 63,
   "metadata": {},
   "outputs": [
    {
     "data": {
      "text/plain": [
       "pandas.core.frame.DataFrame"
      ]
     },
     "execution_count": 63,
     "metadata": {},
     "output_type": "execute_result"
    }
   ],
   "source": [
    "type(us_data.groupby(\"channel_title\").get_group(\"12 News\"))"
   ]
  },
  {
   "cell_type": "code",
   "execution_count": 81,
   "metadata": {},
   "outputs": [],
   "source": [
    "cv = CountVectorizer(binary=True, stop_words=\"english\")\n",
    "count_vector = cv.fit_transform(us_data[:5][\"title\"])"
   ]
  },
  {
   "cell_type": "code",
   "execution_count": 82,
   "metadata": {},
   "outputs": [
    {
     "data": {
      "text/plain": [
       "array([[0, 0, 0, 0, 0, 0, 0, 0, 0, 0, 0, 1, 0, 0, 0, 0, 0, 0, 0, 0, 1, 0,\n",
       "        0, 1, 0],\n",
       "       [0, 0, 0, 0, 0, 1, 1, 0, 0, 0, 0, 0, 0, 1, 0, 1, 0, 0, 0, 0, 0, 1,\n",
       "        1, 0, 1],\n",
       "       [1, 0, 0, 0, 0, 0, 0, 1, 1, 0, 1, 0, 0, 0, 1, 0, 1, 0, 1, 1, 0, 0,\n",
       "        0, 0, 0],\n",
       "       [0, 0, 0, 1, 0, 0, 0, 0, 0, 1, 0, 0, 1, 0, 0, 0, 0, 1, 0, 0, 0, 0,\n",
       "        0, 0, 0],\n",
       "       [0, 1, 1, 0, 1, 0, 0, 0, 0, 0, 0, 0, 0, 0, 0, 0, 0, 0, 0, 0, 0, 0,\n",
       "        0, 0, 0]])"
      ]
     },
     "execution_count": 82,
     "metadata": {},
     "output_type": "execute_result"
    }
   ],
   "source": [
    "count_vector.toarray()"
   ]
  },
  {
   "cell_type": "code",
   "execution_count": 83,
   "metadata": {},
   "outputs": [
    {
     "name": "stdout",
     "output_type": "stream",
     "text": [
      "['bach', 'bald', 'dare', 'fake', 'going', 'hbo', 'john', 'king', 'lele', 'lyrics', 'mancuso', 'marriage', 'nickelback', 'oliver', 'pons', 'presidency', 'racist', 'real', 'rudy', 'superman', 'talk', 'tonight', 'trump', 'want', 'week']\n"
     ]
    }
   ],
   "source": [
    "print(cv.get_feature_names())"
   ]
  },
  {
   "cell_type": "code",
   "execution_count": null,
   "metadata": {},
   "outputs": [],
   "source": []
  }
 ],
 "metadata": {
  "kernelspec": {
   "display_name": "Python 3",
   "language": "python",
   "name": "python3"
  },
  "language_info": {
   "codemirror_mode": {
    "name": "ipython",
    "version": 3
   },
   "file_extension": ".py",
   "mimetype": "text/x-python",
   "name": "python",
   "nbconvert_exporter": "python",
   "pygments_lexer": "ipython3",
   "version": "3.7.6"
  }
 },
 "nbformat": 4,
 "nbformat_minor": 2
}
